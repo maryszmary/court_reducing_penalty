{
 "cells": [
  {
   "cell_type": "code",
   "execution_count": 1,
   "id": "13a68d8d",
   "metadata": {},
   "outputs": [],
   "source": [
    "import re\n",
    "import os\n",
    "from striprtf.striprtf import rtf_to_text"
   ]
  },
  {
   "cell_type": "code",
   "execution_count": 2,
   "id": "f15faa4e",
   "metadata": {},
   "outputs": [
    {
     "name": "stderr",
     "output_type": "stream",
     "text": [
      "2023-05-27 20:47:25.883456: I tensorflow/core/platform/cpu_feature_guard.cc:193] This TensorFlow binary is optimized with oneAPI Deep Neural Network Library (oneDNN) to use the following CPU instructions in performance-critical operations:  AVX2 FMA\n",
      "To enable them in other operations, rebuild TensorFlow with the appropriate compiler flags.\n"
     ]
    }
   ],
   "source": [
    "from transformers import pipeline"
   ]
  },
  {
   "cell_type": "code",
   "execution_count": 35,
   "id": "4e5817f9",
   "metadata": {},
   "outputs": [],
   "source": [
    "nlp = pipeline('question-answering', model='AlexKay/xlm-roberta-large-qa-multilingual-finedtuned-ru', tokenizer='AlexKay/xlm-roberta-large-qa-multilingual-finedtuned-ru')"
   ]
  },
  {
   "cell_type": "code",
   "execution_count": 8,
   "id": "39aad5b6",
   "metadata": {},
   "outputs": [],
   "source": [
    "doc_names = [\n",
    "    'Москва/Решение от 10102022 по делу  А40 148161 2022.rtf',\n",
    "    'Москва/Решение от 11112022 по делу  А40 161479 2022.rtf',\n",
    "    'Москва/Решение от 12102022 по делу  А40 155607 2022.rtf',\n",
    "    'Москва/Решение от 13102022 по делу  А40 168386 2021.rtf',\n",
    "    'Москва/Решение от 14102022 по делу  А40 158698 2022.rtf',\n",
    "    'Красноярский край/Решение от 01112022 по делу  А33 2122 2022.rtf',\n",
    "    'Красноярский край/Решение от 03112022 по делу  А33 21788 2022.rtf',\n",
    "    'Красноярский край/Решение от 06102022 по делу  А33 3874 2022_лимит ответственности - отказ в снижении неустойки.rtf',\n",
    "    'Красноярский край/Решение от 06122021 по делу  А33 24535 2021.rtf',\n",
    "    'Красноярский край/Решение от 18062021 по делу  А33 796 2021.rtf',\n",
    "    'Новосибирская область/Решение от 08092022 по делу  А45 10799 2022_лимит ответственности - отказ в снижении.rtf',\n",
    "    'Новосибирская область/Решение от 10102022 по делу  А45 14812 2022.rtf',\n",
    "    'Новосибирская область/Решение от 14102022 по делу  А45 17688 2022.rtf',\n",
    "    'Новосибирская область/Решение от 15092022 по делу  А45 16196 2022.rtf',\n",
    "    'Новосибирская область/Решение от 20102022 по делу  А45 16697 2022_лимит ответственности - отказ в снижении.rtf',\n",
    "]"
   ]
  },
  {
   "cell_type": "code",
   "execution_count": 11,
   "id": "ba31fedc",
   "metadata": {},
   "outputs": [],
   "source": [
    "def get_documents(root):\n",
    "    docs = {}\n",
    "    for doc_name in os.listdir(root):\n",
    "        if doc_name.endswith('.rtf'):\n",
    "            with open(root + doc_name) as f:\n",
    "                text = rtf_to_text(f.read())\n",
    "                docs[doc_name] = text\n",
    "    return docs"
   ]
  },
  {
   "cell_type": "code",
   "execution_count": 18,
   "id": "e4353c97",
   "metadata": {},
   "outputs": [],
   "source": [
    "def get_document_sample(paths):\n",
    "    docs = {}\n",
    "    for doc_name in paths:\n",
    "        if doc_name.endswith('.rtf'):\n",
    "            with open(doc_name) as f:\n",
    "                text = rtf_to_text(f.read(), errors='ignore')\n",
    "                docs[doc_name] = text\n",
    "    return docs"
   ]
  },
  {
   "cell_type": "code",
   "execution_count": 19,
   "id": "2ecd03c7",
   "metadata": {},
   "outputs": [],
   "source": [
    "docs = get_document_sample(doc_names)"
   ]
  },
  {
   "cell_type": "code",
   "execution_count": 20,
   "id": "c6bd77fe",
   "metadata": {},
   "outputs": [
    {
     "data": {
      "text/plain": [
       "dict_keys(['Москва/Решение от 10102022 по делу  А40 148161 2022.rtf', 'Москва/Решение от 11112022 по делу  А40 161479 2022.rtf', 'Москва/Решение от 12102022 по делу  А40 155607 2022.rtf', 'Москва/Решение от 13102022 по делу  А40 168386 2021.rtf', 'Москва/Решение от 14102022 по делу  А40 158698 2022.rtf', 'Красноярский край/Решение от 01112022 по делу  А33 2122 2022.rtf', 'Красноярский край/Решение от 03112022 по делу  А33 21788 2022.rtf', 'Красноярский край/Решение от 06102022 по делу  А33 3874 2022_лимит ответственности - отказ в снижении неустойки.rtf', 'Красноярский край/Решение от 06122021 по делу  А33 24535 2021.rtf', 'Красноярский край/Решение от 18062021 по делу  А33 796 2021.rtf', 'Новосибирская область/Решение от 08092022 по делу  А45 10799 2022_лимит ответственности - отказ в снижении.rtf', 'Новосибирская область/Решение от 10102022 по делу  А45 14812 2022.rtf', 'Новосибирская область/Решение от 14102022 по делу  А45 17688 2022.rtf', 'Новосибирская область/Решение от 15092022 по делу  А45 16196 2022.rtf', 'Новосибирская область/Решение от 20102022 по делу  А45 16697 2022_лимит ответственности - отказ в снижении.rtf'])"
      ]
     },
     "execution_count": 20,
     "metadata": {},
     "output_type": "execute_result"
    }
   ],
   "source": [
    "docs.keys()"
   ]
  },
  {
   "cell_type": "code",
   "execution_count": 22,
   "id": "7a0804a0",
   "metadata": {},
   "outputs": [],
   "source": [
    "# print(docs['Решение от 24102022 по делу  А56 76859 2022.rtf'])"
   ]
  },
  {
   "cell_type": "code",
   "execution_count": 23,
   "id": "ab4fb87c",
   "metadata": {},
   "outputs": [],
   "source": [
    "conditions_part = re.compile(\n",
    "    '\\\\n' + '\\\\s?'.join('установил:') + '(.+?)\\n' + '\\\\s?'.join('решил:') + '\\n',\n",
    "    flags=(re.DOTALL + re.IGNORECASE)\n",
    ")"
   ]
  },
  {
   "cell_type": "code",
   "execution_count": 16,
   "id": "2a496476",
   "metadata": {},
   "outputs": [],
   "source": [
    "text = docs['Решение от 24102022 по делу  А56 76859 2022.rtf']"
   ]
  },
  {
   "cell_type": "code",
   "execution_count": 25,
   "id": "8ba87a34",
   "metadata": {},
   "outputs": [],
   "source": [
    "money = '[0-9 .,]+р.+?'\n",
    "contract_price_par = re.compile(f'\\n(.+?[Оо]бщ[аяей]+\\\\sстоимостью?\\\\s.+?{money}'\n",
    "                                f'|.*?[Сс]умма\\\\sдоговора\\\\s.+?{money}'\n",
    "                                f'|.*?[Оо]тветчик\\\\sобязался\\\\sпоставить\\\\s.+?на\\\\sсумму\\\\s{money}'\n",
    "                                f'|.*?[Сс]тоимость\\\\sработы?\\\\sсостав[ляетиа]+\\\\s{money}'\n",
    "                                f'|.+?100%\\\\sот\\\\sстоимости\\\\s.+?а\\\\sименно.+?{money}'\n",
    "                                f'|.*?[Цц]ена\\\\sдоговора.+?составляет.+?{money}'\n",
    "                                f'|.+?на\\\\sобщую\\\\sсумму\\\\s.+?{money}'\n",
    "                                f'|.+?принял.*?\\\\sобязательство\\\\sуплатить.*?\\\\sсумму.+?{money})\\n')\n",
    "penalty_par = re.compile('\\n.*?[Нн]еустойк.+?\\n')\n",
    "debt_par = re.compile(f'\\n(.*?[Сс]тоимость\\\\sне(до)?поставленного\\\\sтовара.+?{money})\\n')"
   ]
  },
  {
   "cell_type": "code",
   "execution_count": 26,
   "id": "a0e3dbf0",
   "metadata": {},
   "outputs": [],
   "source": [
    "def get_contract_price(text):\n",
    "    par = contract_price_par.findall(text)\n",
    "    if par:\n",
    "        res = nlp({\n",
    "            'question': 'Какая цена договора?',\n",
    "            'context': ' '.join(par)\n",
    "        })\n",
    "        return res['answer']"
   ]
  },
  {
   "cell_type": "code",
   "execution_count": 28,
   "id": "c2992229",
   "metadata": {},
   "outputs": [],
   "source": [
    "# get_contract_price(text)"
   ]
  },
  {
   "cell_type": "code",
   "execution_count": 29,
   "id": "ae8d76b9",
   "metadata": {},
   "outputs": [],
   "source": [
    "def get_penalty(text):\n",
    "    par = penalty_par.findall(text)\n",
    "    if par:\n",
    "        res = nlp({\n",
    "            'question': 'Какой размер неустойки?',\n",
    "            'context': ' '.join(par)\n",
    "        })\n",
    "        return res['answer']"
   ]
  },
  {
   "cell_type": "code",
   "execution_count": 180,
   "id": "c21413c9",
   "metadata": {},
   "outputs": [],
   "source": [
    "def get_liability(text):\n",
    "    res = nlp({\n",
    "        'question': 'Какая сумма задолженности?',\n",
    "        'context': text\n",
    "    })\n",
    "    return res['start'], res['end'], res['answer']"
   ]
  },
  {
   "cell_type": "code",
   "execution_count": 219,
   "id": "e8866432",
   "metadata": {},
   "outputs": [],
   "source": [
    "def get_deadline(text):\n",
    "    res = nlp({\n",
    "        'question': 'Когда истёк срок исполнения договора?',\n",
    "        'context': text\n",
    "    })\n",
    "    return res['start'], res['end'], res['answer'] "
   ]
  },
  {
   "cell_type": "code",
   "execution_count": 47,
   "id": "f83f51a2",
   "metadata": {},
   "outputs": [],
   "source": [
    "def get_conditions(text):\n",
    "    conditions_match = conditions_part.search(text)\n",
    "    if conditions_match:\n",
    "        conditions = conditions_match.group(1).strip()\n",
    "        offset = text.index(conditions)\n",
    "        return offset, conditions\n",
    "    \n",
    "    return 0, text"
   ]
  },
  {
   "cell_type": "code",
   "execution_count": 48,
   "id": "1a2790ae",
   "metadata": {},
   "outputs": [],
   "source": [
    "def extract_all_entities(text):\n",
    "    entities = []\n",
    "    offset, conditions = get_conditions(text)\n",
    "    contract_price = get_contract_price(conditions)\n",
    "    if contract_price:\n",
    "        entities.append([\n",
    "            text.index(contract_price),\n",
    "            text.index(contract_price) + len(contract_price),\n",
    "            'Цена контракта',\n",
    "#             contract_price\n",
    "        ])\n",
    "    penalty = get_penalty(conditions)\n",
    "    if penalty:\n",
    "        entities.append([\n",
    "            text.index(penalty),\n",
    "            text.index(penalty) + len(penalty),\n",
    "            'Заявленный размер неустойки (цифра)',\n",
    "#             penalty\n",
    "        ])\n",
    "#     debt = get_liability(conditions)\n",
    "#     entities.append([debt[0] + offest, debt[1] + offest, 'Сумма долга',\n",
    "# #                      debt[2]\n",
    "#                     ])\n",
    "#     deadline = get_deadline(conditions)\n",
    "#     entities.append([deadline[0] + offest, deadline[1] + offest, 'Срок исполнения договора',\n",
    "# #                      deadline[2]\n",
    "#                     ])\n",
    "    return entities"
   ]
  },
  {
   "cell_type": "code",
   "execution_count": 124,
   "id": "77f1cd50",
   "metadata": {},
   "outputs": [],
   "source": [
    "# docs.keys()"
   ]
  },
  {
   "cell_type": "code",
   "execution_count": 125,
   "id": "8eca5ebc",
   "metadata": {},
   "outputs": [],
   "source": [
    "# print(docs['Решение от 24102022 по делу  А56 76859 2022.rtf'])"
   ]
  },
  {
   "cell_type": "code",
   "execution_count": 49,
   "id": "00f0adcc",
   "metadata": {},
   "outputs": [],
   "source": [
    "text = docs['Москва/Решение от 10102022 по делу  А40 148161 2022.rtf']"
   ]
  },
  {
   "cell_type": "code",
   "execution_count": 50,
   "id": "0731114e",
   "metadata": {},
   "outputs": [
    {
     "data": {
      "text/plain": [
       "[[6286, 6308, 'Заявленный размер неустойки (цифра)']]"
      ]
     },
     "execution_count": 50,
     "metadata": {},
     "output_type": "execute_result"
    }
   ],
   "source": [
    "extract_all_entities(docs['Москва/Решение от 10102022 по делу  А40 148161 2022.rtf'])"
   ]
  },
  {
   "cell_type": "code",
   "execution_count": 51,
   "id": "25396246",
   "metadata": {},
   "outputs": [
    {
     "data": {
      "text/plain": [
       "' 125 775 руб. 20 коп.,'"
      ]
     },
     "execution_count": 51,
     "metadata": {},
     "output_type": "execute_result"
    }
   ],
   "source": [
    "text[6286: 6308]"
   ]
  },
  {
   "cell_type": "code",
   "execution_count": 93,
   "id": "fcb85aeb",
   "metadata": {},
   "outputs": [],
   "source": [
    "# contract_price_par.findall(text)"
   ]
  },
  {
   "cell_type": "code",
   "execution_count": 160,
   "id": "92ae43f2",
   "metadata": {},
   "outputs": [],
   "source": [
    "contract_sum_questions = [\n",
    "    'На какую сумму подписали договор?', 'Какая общая сумма контракта?', 'Какая цена договора?',\n",
    "]"
   ]
  },
  {
   "cell_type": "code",
   "execution_count": 42,
   "id": "e4d4b0b4",
   "metadata": {},
   "outputs": [],
   "source": [
    "from tqdm import tqdm"
   ]
  },
  {
   "cell_type": "code",
   "execution_count": 52,
   "id": "4659db7e",
   "metadata": {},
   "outputs": [
    {
     "name": "stderr",
     "output_type": "stream",
     "text": [
      "100%|███████████████████████████████████████████████████████████████████████████████████████████████████████████████████████████████████████████████████████████████████████| 15/15 [02:09<00:00,  8.65s/it]\n"
     ]
    }
   ],
   "source": [
    "data = []\n",
    "for name, text in tqdm(docs.items()):\n",
    "    data.append({\n",
    "        'text': text,\n",
    "        'label': extract_all_entities(text)\n",
    "    })"
   ]
  },
  {
   "cell_type": "code",
   "execution_count": 53,
   "id": "a5b8351e",
   "metadata": {},
   "outputs": [],
   "source": [
    "import json"
   ]
  },
  {
   "cell_type": "code",
   "execution_count": 161,
   "id": "c851d47d",
   "metadata": {},
   "outputs": [],
   "source": [
    "# with open('spb_docs_processed.json', 'w') as f:\n",
    "#     json.dump(data[:5], f)"
   ]
  },
  {
   "cell_type": "code",
   "execution_count": 54,
   "id": "8f80fc10",
   "metadata": {},
   "outputs": [],
   "source": [
    "with open('diversified_dataset.jsonl', 'w') as f:\n",
    "    for doc in data:\n",
    "        f.write(json.dumps(doc) + '\\n')"
   ]
  },
  {
   "cell_type": "code",
   "execution_count": 32,
   "id": "cafe8351",
   "metadata": {},
   "outputs": [],
   "source": [
    "# QA_input = {\n",
    "#     'question': 'Какая общая сумма контракта?',\n",
    "#     'context': text\n",
    "# }\n",
    "# res = nlp(QA_input)\n",
    "# res"
   ]
  },
  {
   "cell_type": "code",
   "execution_count": 165,
   "id": "20d75864",
   "metadata": {},
   "outputs": [],
   "source": [
    "# QA_input = {\n",
    "#     'question': 'Какая цена договора?',\n",
    "#     'context': text\n",
    "# }\n",
    "# res = nlp(QA_input)\n",
    "# res"
   ]
  },
  {
   "cell_type": "code",
   "execution_count": 157,
   "id": "de2ca19f",
   "metadata": {},
   "outputs": [],
   "source": [
    "# a = ' '.join(['Во исполнение договора стороны подписали спецификацию № 1 от 28.12.2017 (далее - Спецификация) на поставку товара общей стоимостью 73 632 148,16 руб. на условиях доставки груза покупателю. ', 'Обязательство по уплате аванса Покупатель исполнил платежными поручениями от 20.02.2018 №1854, от 02.02.2018 №1727, на общую сумму 22 089 644,45 руб. Платежным поручением от 30.05.2018 №3196 Покупатель уплатил дополнительный аванс в размере 5 000 000 руб. Общая сумма уплаченного аванса составила 27 089 644,45 руб. Срок поставки всего объема товара наступил 21.06.2018.'])\n",
    "# QA_input = {\n",
    "#     'question': 'Какая цена договора?',\n",
    "#     'context': a\n",
    "# }\n",
    "# res = nlp(QA_input)\n",
    "# res"
   ]
  }
 ],
 "metadata": {
  "kernelspec": {
   "display_name": "Python 3 (ipykernel)",
   "language": "python",
   "name": "python3"
  },
  "language_info": {
   "codemirror_mode": {
    "name": "ipython",
    "version": 3
   },
   "file_extension": ".py",
   "mimetype": "text/x-python",
   "name": "python",
   "nbconvert_exporter": "python",
   "pygments_lexer": "ipython3",
   "version": "3.9.15"
  }
 },
 "nbformat": 4,
 "nbformat_minor": 5
}
