{
 "cells": [
  {
   "cell_type": "code",
   "execution_count": 1,
   "id": "0574cabe",
   "metadata": {},
   "outputs": [],
   "source": [
    "import pandas as pd\n",
    "import matplotlib.pyplot as plt\n",
    "import numpy as np"
   ]
  },
  {
   "cell_type": "markdown",
   "id": "efaed928",
   "metadata": {},
   "source": [
    "## Загружаем незаполненные данные"
   ]
  },
  {
   "cell_type": "code",
   "execution_count": 2,
   "id": "376168e1",
   "metadata": {},
   "outputs": [],
   "source": [
    "df = pd.read_csv('training_df_unfilled_2.09.csv')"
   ]
  },
  {
   "cell_type": "markdown",
   "id": "2a5c8baa",
   "metadata": {},
   "source": [
    "## Заполняем"
   ]
  },
  {
   "cell_type": "code",
   "execution_count": 3,
   "id": "3b51b45a",
   "metadata": {},
   "outputs": [],
   "source": [
    "df.contract_penalty_percentage.fillna(0.001, inplace=True)"
   ]
  },
  {
   "cell_type": "code",
   "execution_count": 180,
   "id": "bc05e167",
   "metadata": {},
   "outputs": [],
   "source": [
    "# training_df.delay.fillna(training_df.delay.median(), inplace=True)"
   ]
  },
  {
   "cell_type": "markdown",
   "id": "14f3ba78",
   "metadata": {},
   "source": [
    "Решили заполнять просрочку распределением Парето и переводить в диапозон от 7 до 1007."
   ]
  },
  {
   "cell_type": "code",
   "execution_count": 4,
   "id": "dffe0bbb",
   "metadata": {},
   "outputs": [
    {
     "name": "stderr",
     "output_type": "stream",
     "text": [
      "/var/folders/zy/214v8d1d4tng0_jtxf69crf40000gp/T/ipykernel_4895/213189561.py:4: SettingWithCopyWarning: \n",
      "A value is trying to be set on a copy of a slice from a DataFrame\n",
      "\n",
      "See the caveats in the documentation: https://pandas.pydata.org/pandas-docs/stable/user_guide/indexing.html#returning-a-view-versus-a-copy\n",
      "  df['delay'].iloc[i] = new_value\n"
     ]
    }
   ],
   "source": [
    "for i, val in enumerate(df.delay):\n",
    "    if np.isnan(val):\n",
    "        new_value = round(np.random.pareto(10) * 1000) + 7\n",
    "        df['delay'].iloc[i] = new_value"
   ]
  },
  {
   "cell_type": "markdown",
   "id": "c3e88c59",
   "metadata": {},
   "source": [
    "### Для заполнения цены контракта попробуем обучать модель"
   ]
  },
  {
   "cell_type": "code",
   "execution_count": 5,
   "id": "d5e6eb57",
   "metadata": {},
   "outputs": [],
   "source": [
    "df['undefined_contract_price'] = df.contract_price.isnull()"
   ]
  },
  {
   "cell_type": "code",
   "execution_count": 6,
   "id": "8e1f10e1",
   "metadata": {},
   "outputs": [
    {
     "data": {
      "text/plain": [
       "(125, 12)"
      ]
     },
     "execution_count": 6,
     "metadata": {},
     "output_type": "execute_result"
    }
   ],
   "source": [
    "df.shape"
   ]
  },
  {
   "cell_type": "code",
   "execution_count": 7,
   "id": "85483a27",
   "metadata": {},
   "outputs": [],
   "source": [
    "training = df[df.undefined_contract_price == False]"
   ]
  },
  {
   "cell_type": "code",
   "execution_count": 8,
   "id": "9522dd48",
   "metadata": {},
   "outputs": [
    {
     "data": {
      "text/plain": [
       "(103, 12)"
      ]
     },
     "execution_count": 8,
     "metadata": {},
     "output_type": "execute_result"
    }
   ],
   "source": [
    "training.shape"
   ]
  },
  {
   "cell_type": "markdown",
   "id": "0c0205cd",
   "metadata": {},
   "source": [
    "Признаки:\n",
    "- claimed_penalty\n",
    "- debt_amount\n",
    "- type_of_contract"
   ]
  },
  {
   "cell_type": "code",
   "execution_count": 9,
   "id": "34c8a802",
   "metadata": {},
   "outputs": [
    {
     "name": "stderr",
     "output_type": "stream",
     "text": [
      "/var/folders/zy/214v8d1d4tng0_jtxf69crf40000gp/T/ipykernel_4895/6625384.py:1: SettingWithCopyWarning: \n",
      "A value is trying to be set on a copy of a slice from a DataFrame\n",
      "\n",
      "See the caveats in the documentation: https://pandas.pydata.org/pandas-docs/stable/user_guide/indexing.html#returning-a-view-versus-a-copy\n",
      "  training['debt_amount'].fillna(training.debt_amount.median(), inplace=True)\n"
     ]
    }
   ],
   "source": [
    "training['debt_amount'].fillna(training.debt_amount.median(), inplace=True)"
   ]
  },
  {
   "cell_type": "code",
   "execution_count": 10,
   "id": "e0782bd9",
   "metadata": {},
   "outputs": [],
   "source": [
    "training = training[(training.contract_price < 10 ** 7)]"
   ]
  },
  {
   "cell_type": "markdown",
   "id": "f5f69561",
   "metadata": {},
   "source": [
    "#### Переводим категориальные данные в one-hot вектора"
   ]
  },
  {
   "cell_type": "code",
   "execution_count": 11,
   "id": "732c515d",
   "metadata": {},
   "outputs": [],
   "source": [
    "def transform_into_onehot(column_name, df):\n",
    "    encoding_dict = {\n",
    "        c: i for (i, c) in enumerate(df[column_name].unique())\n",
    "    }\n",
    "    encoded = np.zeros((len(df), len(encoding_dict)))\n",
    "    for i, val in enumerate(df[column_name]):\n",
    "        one_place = encoding_dict[val]\n",
    "        encoded[i][one_place] = 1\n",
    "    return encoded"
   ]
  },
  {
   "cell_type": "code",
   "execution_count": 12,
   "id": "49e5a710",
   "metadata": {},
   "outputs": [],
   "source": [
    "encoded_type_of_contract = transform_into_onehot('type_of_contract', training)"
   ]
  },
  {
   "cell_type": "code",
   "execution_count": 13,
   "id": "7ed8b782",
   "metadata": {},
   "outputs": [],
   "source": [
    "features = np.hstack([training[['claimed_penalty', 'debt_amount']].values])"
   ]
  },
  {
   "cell_type": "code",
   "execution_count": 15,
   "id": "3b91ad53",
   "metadata": {},
   "outputs": [],
   "source": [
    "from sklearn.model_selection import train_test_split\n",
    "from sklearn.neighbors import KNeighborsRegressor\n",
    "from sklearn import metrics"
   ]
  },
  {
   "cell_type": "code",
   "execution_count": 16,
   "id": "a0ab46fc",
   "metadata": {},
   "outputs": [],
   "source": [
    "X_train, X_test, y_train, y_test = train_test_split(\n",
    "    features, training.contract_price, random_state=42)"
   ]
  },
  {
   "cell_type": "code",
   "execution_count": 17,
   "id": "90f3459f",
   "metadata": {},
   "outputs": [],
   "source": [
    "model = KNeighborsRegressor()"
   ]
  },
  {
   "cell_type": "code",
   "execution_count": 18,
   "id": "b6d0a6ef",
   "metadata": {},
   "outputs": [
    {
     "data": {
      "text/html": [
       "<style>#sk-container-id-1 {color: black;background-color: white;}#sk-container-id-1 pre{padding: 0;}#sk-container-id-1 div.sk-toggleable {background-color: white;}#sk-container-id-1 label.sk-toggleable__label {cursor: pointer;display: block;width: 100%;margin-bottom: 0;padding: 0.3em;box-sizing: border-box;text-align: center;}#sk-container-id-1 label.sk-toggleable__label-arrow:before {content: \"▸\";float: left;margin-right: 0.25em;color: #696969;}#sk-container-id-1 label.sk-toggleable__label-arrow:hover:before {color: black;}#sk-container-id-1 div.sk-estimator:hover label.sk-toggleable__label-arrow:before {color: black;}#sk-container-id-1 div.sk-toggleable__content {max-height: 0;max-width: 0;overflow: hidden;text-align: left;background-color: #f0f8ff;}#sk-container-id-1 div.sk-toggleable__content pre {margin: 0.2em;color: black;border-radius: 0.25em;background-color: #f0f8ff;}#sk-container-id-1 input.sk-toggleable__control:checked~div.sk-toggleable__content {max-height: 200px;max-width: 100%;overflow: auto;}#sk-container-id-1 input.sk-toggleable__control:checked~label.sk-toggleable__label-arrow:before {content: \"▾\";}#sk-container-id-1 div.sk-estimator input.sk-toggleable__control:checked~label.sk-toggleable__label {background-color: #d4ebff;}#sk-container-id-1 div.sk-label input.sk-toggleable__control:checked~label.sk-toggleable__label {background-color: #d4ebff;}#sk-container-id-1 input.sk-hidden--visually {border: 0;clip: rect(1px 1px 1px 1px);clip: rect(1px, 1px, 1px, 1px);height: 1px;margin: -1px;overflow: hidden;padding: 0;position: absolute;width: 1px;}#sk-container-id-1 div.sk-estimator {font-family: monospace;background-color: #f0f8ff;border: 1px dotted black;border-radius: 0.25em;box-sizing: border-box;margin-bottom: 0.5em;}#sk-container-id-1 div.sk-estimator:hover {background-color: #d4ebff;}#sk-container-id-1 div.sk-parallel-item::after {content: \"\";width: 100%;border-bottom: 1px solid gray;flex-grow: 1;}#sk-container-id-1 div.sk-label:hover label.sk-toggleable__label {background-color: #d4ebff;}#sk-container-id-1 div.sk-serial::before {content: \"\";position: absolute;border-left: 1px solid gray;box-sizing: border-box;top: 0;bottom: 0;left: 50%;z-index: 0;}#sk-container-id-1 div.sk-serial {display: flex;flex-direction: column;align-items: center;background-color: white;padding-right: 0.2em;padding-left: 0.2em;position: relative;}#sk-container-id-1 div.sk-item {position: relative;z-index: 1;}#sk-container-id-1 div.sk-parallel {display: flex;align-items: stretch;justify-content: center;background-color: white;position: relative;}#sk-container-id-1 div.sk-item::before, #sk-container-id-1 div.sk-parallel-item::before {content: \"\";position: absolute;border-left: 1px solid gray;box-sizing: border-box;top: 0;bottom: 0;left: 50%;z-index: -1;}#sk-container-id-1 div.sk-parallel-item {display: flex;flex-direction: column;z-index: 1;position: relative;background-color: white;}#sk-container-id-1 div.sk-parallel-item:first-child::after {align-self: flex-end;width: 50%;}#sk-container-id-1 div.sk-parallel-item:last-child::after {align-self: flex-start;width: 50%;}#sk-container-id-1 div.sk-parallel-item:only-child::after {width: 0;}#sk-container-id-1 div.sk-dashed-wrapped {border: 1px dashed gray;margin: 0 0.4em 0.5em 0.4em;box-sizing: border-box;padding-bottom: 0.4em;background-color: white;}#sk-container-id-1 div.sk-label label {font-family: monospace;font-weight: bold;display: inline-block;line-height: 1.2em;}#sk-container-id-1 div.sk-label-container {text-align: center;}#sk-container-id-1 div.sk-container {/* jupyter's `normalize.less` sets `[hidden] { display: none; }` but bootstrap.min.css set `[hidden] { display: none !important; }` so we also need the `!important` here to be able to override the default hidden behavior on the sphinx rendered scikit-learn.org. See: https://github.com/scikit-learn/scikit-learn/issues/21755 */display: inline-block !important;position: relative;}#sk-container-id-1 div.sk-text-repr-fallback {display: none;}</style><div id=\"sk-container-id-1\" class=\"sk-top-container\"><div class=\"sk-text-repr-fallback\"><pre>KNeighborsRegressor()</pre><b>In a Jupyter environment, please rerun this cell to show the HTML representation or trust the notebook. <br />On GitHub, the HTML representation is unable to render, please try loading this page with nbviewer.org.</b></div><div class=\"sk-container\" hidden><div class=\"sk-item\"><div class=\"sk-estimator sk-toggleable\"><input class=\"sk-toggleable__control sk-hidden--visually\" id=\"sk-estimator-id-1\" type=\"checkbox\" checked><label for=\"sk-estimator-id-1\" class=\"sk-toggleable__label sk-toggleable__label-arrow\">KNeighborsRegressor</label><div class=\"sk-toggleable__content\"><pre>KNeighborsRegressor()</pre></div></div></div></div></div>"
      ],
      "text/plain": [
       "KNeighborsRegressor()"
      ]
     },
     "execution_count": 18,
     "metadata": {},
     "output_type": "execute_result"
    }
   ],
   "source": [
    "model.fit(X_train, y_train)"
   ]
  },
  {
   "cell_type": "code",
   "execution_count": 19,
   "id": "808e1da3",
   "metadata": {},
   "outputs": [],
   "source": [
    "pred = model.predict(X_test)"
   ]
  },
  {
   "cell_type": "code",
   "execution_count": 20,
   "id": "5265daef",
   "metadata": {},
   "outputs": [
    {
     "data": {
      "text/plain": [
       "6615024895311.943"
      ]
     },
     "execution_count": 20,
     "metadata": {},
     "output_type": "execute_result"
    }
   ],
   "source": [
    "metrics.mean_squared_error(y_test, pred)"
   ]
  },
  {
   "cell_type": "code",
   "execution_count": 21,
   "id": "b9e143b3",
   "metadata": {},
   "outputs": [
    {
     "data": {
      "text/plain": [
       "1882265.7789473683"
      ]
     },
     "execution_count": 21,
     "metadata": {},
     "output_type": "execute_result"
    }
   ],
   "source": [
    "metrics.mean_absolute_error(y_test, pred)"
   ]
  },
  {
   "cell_type": "code",
   "execution_count": 22,
   "id": "f2050531",
   "metadata": {},
   "outputs": [
    {
     "data": {
      "text/html": [
       "<div>\n",
       "<style scoped>\n",
       "    .dataframe tbody tr th:only-of-type {\n",
       "        vertical-align: middle;\n",
       "    }\n",
       "\n",
       "    .dataframe tbody tr th {\n",
       "        vertical-align: top;\n",
       "    }\n",
       "\n",
       "    .dataframe thead th {\n",
       "        text-align: right;\n",
       "    }\n",
       "</style>\n",
       "<table border=\"1\" class=\"dataframe\">\n",
       "  <thead>\n",
       "    <tr style=\"text-align: right;\">\n",
       "      <th></th>\n",
       "      <th>real</th>\n",
       "      <th>predicted</th>\n",
       "    </tr>\n",
       "  </thead>\n",
       "  <tbody>\n",
       "    <tr>\n",
       "      <th>10</th>\n",
       "      <td>400281.0</td>\n",
       "      <td>955747.0</td>\n",
       "    </tr>\n",
       "    <tr>\n",
       "      <th>107</th>\n",
       "      <td>148180.0</td>\n",
       "      <td>153660.0</td>\n",
       "    </tr>\n",
       "    <tr>\n",
       "      <th>26</th>\n",
       "      <td>6500587.0</td>\n",
       "      <td>2300909.2</td>\n",
       "    </tr>\n",
       "    <tr>\n",
       "      <th>2</th>\n",
       "      <td>5802301.0</td>\n",
       "      <td>2553831.4</td>\n",
       "    </tr>\n",
       "    <tr>\n",
       "      <th>70</th>\n",
       "      <td>1122210.0</td>\n",
       "      <td>5758836.2</td>\n",
       "    </tr>\n",
       "    <tr>\n",
       "      <th>104</th>\n",
       "      <td>4727543.0</td>\n",
       "      <td>2394273.6</td>\n",
       "    </tr>\n",
       "    <tr>\n",
       "      <th>54</th>\n",
       "      <td>107800.0</td>\n",
       "      <td>4513978.2</td>\n",
       "    </tr>\n",
       "    <tr>\n",
       "      <th>29</th>\n",
       "      <td>5093668.0</td>\n",
       "      <td>3609017.4</td>\n",
       "    </tr>\n",
       "    <tr>\n",
       "      <th>116</th>\n",
       "      <td>165745.0</td>\n",
       "      <td>274288.0</td>\n",
       "    </tr>\n",
       "    <tr>\n",
       "      <th>108</th>\n",
       "      <td>837978.0</td>\n",
       "      <td>1143560.8</td>\n",
       "    </tr>\n",
       "    <tr>\n",
       "      <th>68</th>\n",
       "      <td>5014430.0</td>\n",
       "      <td>744339.0</td>\n",
       "    </tr>\n",
       "    <tr>\n",
       "      <th>77</th>\n",
       "      <td>5042863.0</td>\n",
       "      <td>4258699.0</td>\n",
       "    </tr>\n",
       "    <tr>\n",
       "      <th>86</th>\n",
       "      <td>41787.0</td>\n",
       "      <td>752803.0</td>\n",
       "    </tr>\n",
       "    <tr>\n",
       "      <th>41</th>\n",
       "      <td>247256.0</td>\n",
       "      <td>640884.4</td>\n",
       "    </tr>\n",
       "    <tr>\n",
       "      <th>25</th>\n",
       "      <td>6995000.0</td>\n",
       "      <td>2017437.0</td>\n",
       "    </tr>\n",
       "    <tr>\n",
       "      <th>46</th>\n",
       "      <td>384811.0</td>\n",
       "      <td>955747.0</td>\n",
       "    </tr>\n",
       "    <tr>\n",
       "      <th>11</th>\n",
       "      <td>1785000.0</td>\n",
       "      <td>3461046.0</td>\n",
       "    </tr>\n",
       "    <tr>\n",
       "      <th>67</th>\n",
       "      <td>3000000.0</td>\n",
       "      <td>4047981.4</td>\n",
       "    </tr>\n",
       "    <tr>\n",
       "      <th>94</th>\n",
       "      <td>187636.0</td>\n",
       "      <td>235316.4</td>\n",
       "    </tr>\n",
       "  </tbody>\n",
       "</table>\n",
       "</div>"
      ],
      "text/plain": [
       "          real  predicted\n",
       "10    400281.0   955747.0\n",
       "107   148180.0   153660.0\n",
       "26   6500587.0  2300909.2\n",
       "2    5802301.0  2553831.4\n",
       "70   1122210.0  5758836.2\n",
       "104  4727543.0  2394273.6\n",
       "54    107800.0  4513978.2\n",
       "29   5093668.0  3609017.4\n",
       "116   165745.0   274288.0\n",
       "108   837978.0  1143560.8\n",
       "68   5014430.0   744339.0\n",
       "77   5042863.0  4258699.0\n",
       "86     41787.0   752803.0\n",
       "41    247256.0   640884.4\n",
       "25   6995000.0  2017437.0\n",
       "46    384811.0   955747.0\n",
       "11   1785000.0  3461046.0\n",
       "67   3000000.0  4047981.4\n",
       "94    187636.0   235316.4"
      ]
     },
     "execution_count": 22,
     "metadata": {},
     "output_type": "execute_result"
    }
   ],
   "source": [
    "results = pd.DataFrame({'real': y_test, 'predicted': pred})\n",
    "results"
   ]
  },
  {
   "cell_type": "markdown",
   "id": "3d3cc0d8",
   "metadata": {},
   "source": [
    "#### Заполняем пропуски по цене конракта"
   ]
  },
  {
   "cell_type": "code",
   "execution_count": 23,
   "id": "4ece90c9",
   "metadata": {},
   "outputs": [],
   "source": [
    "debt_default_value = training.debt_amount.median()"
   ]
  },
  {
   "cell_type": "code",
   "execution_count": 24,
   "id": "2d51cbba",
   "metadata": {},
   "outputs": [
    {
     "data": {
      "text/plain": [
       "851388.5"
      ]
     },
     "execution_count": 24,
     "metadata": {},
     "output_type": "execute_result"
    }
   ],
   "source": [
    "debt_default_value"
   ]
  },
  {
   "cell_type": "code",
   "execution_count": 25,
   "id": "d39c4899",
   "metadata": {},
   "outputs": [
    {
     "name": "stderr",
     "output_type": "stream",
     "text": [
      "/var/folders/zy/214v8d1d4tng0_jtxf69crf40000gp/T/ipykernel_4895/2579834765.py:6: SettingWithCopyWarning: \n",
      "A value is trying to be set on a copy of a slice from a DataFrame\n",
      "\n",
      "See the caveats in the documentation: https://pandas.pydata.org/pandas-docs/stable/user_guide/indexing.html#returning-a-view-versus-a-copy\n",
      "  df['contract_price'].iloc[i] = new_value\n",
      "/var/folders/zy/214v8d1d4tng0_jtxf69crf40000gp/T/ipykernel_4895/2579834765.py:6: SettingWithCopyWarning: \n",
      "A value is trying to be set on a copy of a slice from a DataFrame\n",
      "\n",
      "See the caveats in the documentation: https://pandas.pydata.org/pandas-docs/stable/user_guide/indexing.html#returning-a-view-versus-a-copy\n",
      "  df['contract_price'].iloc[i] = new_value\n",
      "/var/folders/zy/214v8d1d4tng0_jtxf69crf40000gp/T/ipykernel_4895/2579834765.py:6: SettingWithCopyWarning: \n",
      "A value is trying to be set on a copy of a slice from a DataFrame\n",
      "\n",
      "See the caveats in the documentation: https://pandas.pydata.org/pandas-docs/stable/user_guide/indexing.html#returning-a-view-versus-a-copy\n",
      "  df['contract_price'].iloc[i] = new_value\n",
      "/var/folders/zy/214v8d1d4tng0_jtxf69crf40000gp/T/ipykernel_4895/2579834765.py:6: SettingWithCopyWarning: \n",
      "A value is trying to be set on a copy of a slice from a DataFrame\n",
      "\n",
      "See the caveats in the documentation: https://pandas.pydata.org/pandas-docs/stable/user_guide/indexing.html#returning-a-view-versus-a-copy\n",
      "  df['contract_price'].iloc[i] = new_value\n",
      "/var/folders/zy/214v8d1d4tng0_jtxf69crf40000gp/T/ipykernel_4895/2579834765.py:6: SettingWithCopyWarning: \n",
      "A value is trying to be set on a copy of a slice from a DataFrame\n",
      "\n",
      "See the caveats in the documentation: https://pandas.pydata.org/pandas-docs/stable/user_guide/indexing.html#returning-a-view-versus-a-copy\n",
      "  df['contract_price'].iloc[i] = new_value\n",
      "/var/folders/zy/214v8d1d4tng0_jtxf69crf40000gp/T/ipykernel_4895/2579834765.py:6: SettingWithCopyWarning: \n",
      "A value is trying to be set on a copy of a slice from a DataFrame\n",
      "\n",
      "See the caveats in the documentation: https://pandas.pydata.org/pandas-docs/stable/user_guide/indexing.html#returning-a-view-versus-a-copy\n",
      "  df['contract_price'].iloc[i] = new_value\n",
      "/var/folders/zy/214v8d1d4tng0_jtxf69crf40000gp/T/ipykernel_4895/2579834765.py:6: SettingWithCopyWarning: \n",
      "A value is trying to be set on a copy of a slice from a DataFrame\n",
      "\n",
      "See the caveats in the documentation: https://pandas.pydata.org/pandas-docs/stable/user_guide/indexing.html#returning-a-view-versus-a-copy\n",
      "  df['contract_price'].iloc[i] = new_value\n",
      "/var/folders/zy/214v8d1d4tng0_jtxf69crf40000gp/T/ipykernel_4895/2579834765.py:6: SettingWithCopyWarning: \n",
      "A value is trying to be set on a copy of a slice from a DataFrame\n",
      "\n",
      "See the caveats in the documentation: https://pandas.pydata.org/pandas-docs/stable/user_guide/indexing.html#returning-a-view-versus-a-copy\n",
      "  df['contract_price'].iloc[i] = new_value\n",
      "/var/folders/zy/214v8d1d4tng0_jtxf69crf40000gp/T/ipykernel_4895/2579834765.py:6: SettingWithCopyWarning: \n",
      "A value is trying to be set on a copy of a slice from a DataFrame\n",
      "\n",
      "See the caveats in the documentation: https://pandas.pydata.org/pandas-docs/stable/user_guide/indexing.html#returning-a-view-versus-a-copy\n",
      "  df['contract_price'].iloc[i] = new_value\n",
      "/var/folders/zy/214v8d1d4tng0_jtxf69crf40000gp/T/ipykernel_4895/2579834765.py:6: SettingWithCopyWarning: \n",
      "A value is trying to be set on a copy of a slice from a DataFrame\n",
      "\n",
      "See the caveats in the documentation: https://pandas.pydata.org/pandas-docs/stable/user_guide/indexing.html#returning-a-view-versus-a-copy\n",
      "  df['contract_price'].iloc[i] = new_value\n",
      "/var/folders/zy/214v8d1d4tng0_jtxf69crf40000gp/T/ipykernel_4895/2579834765.py:6: SettingWithCopyWarning: \n",
      "A value is trying to be set on a copy of a slice from a DataFrame\n",
      "\n",
      "See the caveats in the documentation: https://pandas.pydata.org/pandas-docs/stable/user_guide/indexing.html#returning-a-view-versus-a-copy\n",
      "  df['contract_price'].iloc[i] = new_value\n",
      "/var/folders/zy/214v8d1d4tng0_jtxf69crf40000gp/T/ipykernel_4895/2579834765.py:6: SettingWithCopyWarning: \n",
      "A value is trying to be set on a copy of a slice from a DataFrame\n",
      "\n",
      "See the caveats in the documentation: https://pandas.pydata.org/pandas-docs/stable/user_guide/indexing.html#returning-a-view-versus-a-copy\n",
      "  df['contract_price'].iloc[i] = new_value\n",
      "/var/folders/zy/214v8d1d4tng0_jtxf69crf40000gp/T/ipykernel_4895/2579834765.py:6: SettingWithCopyWarning: \n",
      "A value is trying to be set on a copy of a slice from a DataFrame\n",
      "\n",
      "See the caveats in the documentation: https://pandas.pydata.org/pandas-docs/stable/user_guide/indexing.html#returning-a-view-versus-a-copy\n",
      "  df['contract_price'].iloc[i] = new_value\n",
      "/var/folders/zy/214v8d1d4tng0_jtxf69crf40000gp/T/ipykernel_4895/2579834765.py:6: SettingWithCopyWarning: \n",
      "A value is trying to be set on a copy of a slice from a DataFrame\n",
      "\n",
      "See the caveats in the documentation: https://pandas.pydata.org/pandas-docs/stable/user_guide/indexing.html#returning-a-view-versus-a-copy\n",
      "  df['contract_price'].iloc[i] = new_value\n",
      "/var/folders/zy/214v8d1d4tng0_jtxf69crf40000gp/T/ipykernel_4895/2579834765.py:6: SettingWithCopyWarning: \n",
      "A value is trying to be set on a copy of a slice from a DataFrame\n",
      "\n",
      "See the caveats in the documentation: https://pandas.pydata.org/pandas-docs/stable/user_guide/indexing.html#returning-a-view-versus-a-copy\n",
      "  df['contract_price'].iloc[i] = new_value\n",
      "/var/folders/zy/214v8d1d4tng0_jtxf69crf40000gp/T/ipykernel_4895/2579834765.py:6: SettingWithCopyWarning: \n",
      "A value is trying to be set on a copy of a slice from a DataFrame\n",
      "\n",
      "See the caveats in the documentation: https://pandas.pydata.org/pandas-docs/stable/user_guide/indexing.html#returning-a-view-versus-a-copy\n",
      "  df['contract_price'].iloc[i] = new_value\n",
      "/var/folders/zy/214v8d1d4tng0_jtxf69crf40000gp/T/ipykernel_4895/2579834765.py:6: SettingWithCopyWarning: \n",
      "A value is trying to be set on a copy of a slice from a DataFrame\n",
      "\n",
      "See the caveats in the documentation: https://pandas.pydata.org/pandas-docs/stable/user_guide/indexing.html#returning-a-view-versus-a-copy\n",
      "  df['contract_price'].iloc[i] = new_value\n",
      "/var/folders/zy/214v8d1d4tng0_jtxf69crf40000gp/T/ipykernel_4895/2579834765.py:6: SettingWithCopyWarning: \n",
      "A value is trying to be set on a copy of a slice from a DataFrame\n",
      "\n",
      "See the caveats in the documentation: https://pandas.pydata.org/pandas-docs/stable/user_guide/indexing.html#returning-a-view-versus-a-copy\n",
      "  df['contract_price'].iloc[i] = new_value\n",
      "/var/folders/zy/214v8d1d4tng0_jtxf69crf40000gp/T/ipykernel_4895/2579834765.py:6: SettingWithCopyWarning: \n",
      "A value is trying to be set on a copy of a slice from a DataFrame\n",
      "\n",
      "See the caveats in the documentation: https://pandas.pydata.org/pandas-docs/stable/user_guide/indexing.html#returning-a-view-versus-a-copy\n",
      "  df['contract_price'].iloc[i] = new_value\n",
      "/var/folders/zy/214v8d1d4tng0_jtxf69crf40000gp/T/ipykernel_4895/2579834765.py:6: SettingWithCopyWarning: \n",
      "A value is trying to be set on a copy of a slice from a DataFrame\n",
      "\n",
      "See the caveats in the documentation: https://pandas.pydata.org/pandas-docs/stable/user_guide/indexing.html#returning-a-view-versus-a-copy\n",
      "  df['contract_price'].iloc[i] = new_value\n",
      "/var/folders/zy/214v8d1d4tng0_jtxf69crf40000gp/T/ipykernel_4895/2579834765.py:6: SettingWithCopyWarning: \n",
      "A value is trying to be set on a copy of a slice from a DataFrame\n",
      "\n",
      "See the caveats in the documentation: https://pandas.pydata.org/pandas-docs/stable/user_guide/indexing.html#returning-a-view-versus-a-copy\n",
      "  df['contract_price'].iloc[i] = new_value\n",
      "/var/folders/zy/214v8d1d4tng0_jtxf69crf40000gp/T/ipykernel_4895/2579834765.py:6: SettingWithCopyWarning: \n",
      "A value is trying to be set on a copy of a slice from a DataFrame\n",
      "\n",
      "See the caveats in the documentation: https://pandas.pydata.org/pandas-docs/stable/user_guide/indexing.html#returning-a-view-versus-a-copy\n",
      "  df['contract_price'].iloc[i] = new_value\n"
     ]
    }
   ],
   "source": [
    "for i, (val, debt, claimed_penalty) in enumerate(df[['contract_price', 'debt_amount', 'claimed_penalty']].values):\n",
    "    if np.isnan(val):\n",
    "        debt = debt if not np.isnan(debt) else debt_default_value\n",
    "        features = [[claimed_penalty, debt]]\n",
    "        new_value = model.predict(features)[0]\n",
    "        df['contract_price'].iloc[i] = new_value"
   ]
  },
  {
   "cell_type": "markdown",
   "id": "5e61e34a",
   "metadata": {},
   "source": [
    "### Для заполнения debt_amount попробуем обучать модель"
   ]
  },
  {
   "cell_type": "code",
   "execution_count": 6,
   "id": "718bea54",
   "metadata": {},
   "outputs": [
    {
     "data": {
      "text/plain": [
       "(125, 12)"
      ]
     },
     "execution_count": 6,
     "metadata": {},
     "output_type": "execute_result"
    }
   ],
   "source": [
    "df.shape"
   ]
  },
  {
   "cell_type": "code",
   "execution_count": 26,
   "id": "ec14c2fb",
   "metadata": {},
   "outputs": [
    {
     "data": {
      "text/plain": [
       "(99, 12)"
      ]
     },
     "execution_count": 26,
     "metadata": {},
     "output_type": "execute_result"
    }
   ],
   "source": [
    "training = df[df.debt_amount.notnull()]\n",
    "training.shape"
   ]
  },
  {
   "cell_type": "markdown",
   "id": "d8737d2e",
   "metadata": {},
   "source": [
    "Признаки:\n",
    "- claimed_penalty\n",
    "- contract_price\n",
    "- delay (?)"
   ]
  },
  {
   "cell_type": "code",
   "execution_count": 27,
   "id": "d60bd6b8",
   "metadata": {},
   "outputs": [],
   "source": [
    "training = training[(training.contract_price < 10 ** 7)]"
   ]
  },
  {
   "cell_type": "code",
   "execution_count": 29,
   "id": "ee7085d6",
   "metadata": {},
   "outputs": [
    {
     "data": {
      "text/plain": [
       "(81, 12)"
      ]
     },
     "execution_count": 29,
     "metadata": {},
     "output_type": "execute_result"
    }
   ],
   "source": [
    "training.shape"
   ]
  },
  {
   "cell_type": "code",
   "execution_count": 56,
   "id": "3e435289",
   "metadata": {},
   "outputs": [],
   "source": [
    "features = np.hstack([training[['claimed_penalty', 'contract_price']].values])"
   ]
  },
  {
   "cell_type": "code",
   "execution_count": 57,
   "id": "a608a7e8",
   "metadata": {},
   "outputs": [],
   "source": [
    "X_train, X_test, y_train, y_test = train_test_split(\n",
    "    features, training.debt_amount, random_state=42)"
   ]
  },
  {
   "cell_type": "code",
   "execution_count": 58,
   "id": "7b2e258f",
   "metadata": {},
   "outputs": [],
   "source": [
    "from sklearn.model_selection import train_test_split\n",
    "from sklearn.neighbors import KNeighborsRegressor\n",
    "from sklearn import metrics"
   ]
  },
  {
   "cell_type": "code",
   "execution_count": 59,
   "id": "c9c6f5e3",
   "metadata": {},
   "outputs": [],
   "source": [
    "model = KNeighborsRegressor()"
   ]
  },
  {
   "cell_type": "code",
   "execution_count": 60,
   "id": "5f6abee5",
   "metadata": {},
   "outputs": [
    {
     "data": {
      "text/html": [
       "<style>#sk-container-id-5 {color: black;background-color: white;}#sk-container-id-5 pre{padding: 0;}#sk-container-id-5 div.sk-toggleable {background-color: white;}#sk-container-id-5 label.sk-toggleable__label {cursor: pointer;display: block;width: 100%;margin-bottom: 0;padding: 0.3em;box-sizing: border-box;text-align: center;}#sk-container-id-5 label.sk-toggleable__label-arrow:before {content: \"▸\";float: left;margin-right: 0.25em;color: #696969;}#sk-container-id-5 label.sk-toggleable__label-arrow:hover:before {color: black;}#sk-container-id-5 div.sk-estimator:hover label.sk-toggleable__label-arrow:before {color: black;}#sk-container-id-5 div.sk-toggleable__content {max-height: 0;max-width: 0;overflow: hidden;text-align: left;background-color: #f0f8ff;}#sk-container-id-5 div.sk-toggleable__content pre {margin: 0.2em;color: black;border-radius: 0.25em;background-color: #f0f8ff;}#sk-container-id-5 input.sk-toggleable__control:checked~div.sk-toggleable__content {max-height: 200px;max-width: 100%;overflow: auto;}#sk-container-id-5 input.sk-toggleable__control:checked~label.sk-toggleable__label-arrow:before {content: \"▾\";}#sk-container-id-5 div.sk-estimator input.sk-toggleable__control:checked~label.sk-toggleable__label {background-color: #d4ebff;}#sk-container-id-5 div.sk-label input.sk-toggleable__control:checked~label.sk-toggleable__label {background-color: #d4ebff;}#sk-container-id-5 input.sk-hidden--visually {border: 0;clip: rect(1px 1px 1px 1px);clip: rect(1px, 1px, 1px, 1px);height: 1px;margin: -1px;overflow: hidden;padding: 0;position: absolute;width: 1px;}#sk-container-id-5 div.sk-estimator {font-family: monospace;background-color: #f0f8ff;border: 1px dotted black;border-radius: 0.25em;box-sizing: border-box;margin-bottom: 0.5em;}#sk-container-id-5 div.sk-estimator:hover {background-color: #d4ebff;}#sk-container-id-5 div.sk-parallel-item::after {content: \"\";width: 100%;border-bottom: 1px solid gray;flex-grow: 1;}#sk-container-id-5 div.sk-label:hover label.sk-toggleable__label {background-color: #d4ebff;}#sk-container-id-5 div.sk-serial::before {content: \"\";position: absolute;border-left: 1px solid gray;box-sizing: border-box;top: 0;bottom: 0;left: 50%;z-index: 0;}#sk-container-id-5 div.sk-serial {display: flex;flex-direction: column;align-items: center;background-color: white;padding-right: 0.2em;padding-left: 0.2em;position: relative;}#sk-container-id-5 div.sk-item {position: relative;z-index: 1;}#sk-container-id-5 div.sk-parallel {display: flex;align-items: stretch;justify-content: center;background-color: white;position: relative;}#sk-container-id-5 div.sk-item::before, #sk-container-id-5 div.sk-parallel-item::before {content: \"\";position: absolute;border-left: 1px solid gray;box-sizing: border-box;top: 0;bottom: 0;left: 50%;z-index: -1;}#sk-container-id-5 div.sk-parallel-item {display: flex;flex-direction: column;z-index: 1;position: relative;background-color: white;}#sk-container-id-5 div.sk-parallel-item:first-child::after {align-self: flex-end;width: 50%;}#sk-container-id-5 div.sk-parallel-item:last-child::after {align-self: flex-start;width: 50%;}#sk-container-id-5 div.sk-parallel-item:only-child::after {width: 0;}#sk-container-id-5 div.sk-dashed-wrapped {border: 1px dashed gray;margin: 0 0.4em 0.5em 0.4em;box-sizing: border-box;padding-bottom: 0.4em;background-color: white;}#sk-container-id-5 div.sk-label label {font-family: monospace;font-weight: bold;display: inline-block;line-height: 1.2em;}#sk-container-id-5 div.sk-label-container {text-align: center;}#sk-container-id-5 div.sk-container {/* jupyter's `normalize.less` sets `[hidden] { display: none; }` but bootstrap.min.css set `[hidden] { display: none !important; }` so we also need the `!important` here to be able to override the default hidden behavior on the sphinx rendered scikit-learn.org. See: https://github.com/scikit-learn/scikit-learn/issues/21755 */display: inline-block !important;position: relative;}#sk-container-id-5 div.sk-text-repr-fallback {display: none;}</style><div id=\"sk-container-id-5\" class=\"sk-top-container\"><div class=\"sk-text-repr-fallback\"><pre>KNeighborsRegressor()</pre><b>In a Jupyter environment, please rerun this cell to show the HTML representation or trust the notebook. <br />On GitHub, the HTML representation is unable to render, please try loading this page with nbviewer.org.</b></div><div class=\"sk-container\" hidden><div class=\"sk-item\"><div class=\"sk-estimator sk-toggleable\"><input class=\"sk-toggleable__control sk-hidden--visually\" id=\"sk-estimator-id-5\" type=\"checkbox\" checked><label for=\"sk-estimator-id-5\" class=\"sk-toggleable__label sk-toggleable__label-arrow\">KNeighborsRegressor</label><div class=\"sk-toggleable__content\"><pre>KNeighborsRegressor()</pre></div></div></div></div></div>"
      ],
      "text/plain": [
       "KNeighborsRegressor()"
      ]
     },
     "execution_count": 60,
     "metadata": {},
     "output_type": "execute_result"
    }
   ],
   "source": [
    "model.fit(X_train, y_train)"
   ]
  },
  {
   "cell_type": "code",
   "execution_count": 61,
   "id": "ef1affb1",
   "metadata": {},
   "outputs": [],
   "source": [
    "pred = model.predict(X_test)"
   ]
  },
  {
   "cell_type": "code",
   "execution_count": 62,
   "id": "7a6e7d1a",
   "metadata": {},
   "outputs": [
    {
     "data": {
      "text/plain": [
       "2467534390479.176"
      ]
     },
     "execution_count": 62,
     "metadata": {},
     "output_type": "execute_result"
    }
   ],
   "source": [
    "metrics.mean_squared_error(y_test, pred)"
   ]
  },
  {
   "cell_type": "code",
   "execution_count": 63,
   "id": "1923ca35",
   "metadata": {},
   "outputs": [
    {
     "data": {
      "text/plain": [
       "948988.9238095239"
      ]
     },
     "execution_count": 63,
     "metadata": {},
     "output_type": "execute_result"
    }
   ],
   "source": [
    "metrics.mean_absolute_error(y_test, pred)"
   ]
  },
  {
   "cell_type": "code",
   "execution_count": 64,
   "id": "e8607d40",
   "metadata": {},
   "outputs": [
    {
     "data": {
      "text/html": [
       "<div>\n",
       "<style scoped>\n",
       "    .dataframe tbody tr th:only-of-type {\n",
       "        vertical-align: middle;\n",
       "    }\n",
       "\n",
       "    .dataframe tbody tr th {\n",
       "        vertical-align: top;\n",
       "    }\n",
       "\n",
       "    .dataframe thead th {\n",
       "        text-align: right;\n",
       "    }\n",
       "</style>\n",
       "<table border=\"1\" class=\"dataframe\">\n",
       "  <thead>\n",
       "    <tr style=\"text-align: right;\">\n",
       "      <th></th>\n",
       "      <th>real</th>\n",
       "      <th>predicted</th>\n",
       "    </tr>\n",
       "  </thead>\n",
       "  <tbody>\n",
       "    <tr>\n",
       "      <th>52</th>\n",
       "      <td>228864.0</td>\n",
       "      <td>144949.4</td>\n",
       "    </tr>\n",
       "    <tr>\n",
       "      <th>5</th>\n",
       "      <td>21500.0</td>\n",
       "      <td>790816.4</td>\n",
       "    </tr>\n",
       "    <tr>\n",
       "      <th>39</th>\n",
       "      <td>8012460.0</td>\n",
       "      <td>3687719.6</td>\n",
       "    </tr>\n",
       "    <tr>\n",
       "      <th>55</th>\n",
       "      <td>224926.0</td>\n",
       "      <td>257878.6</td>\n",
       "    </tr>\n",
       "    <tr>\n",
       "      <th>33</th>\n",
       "      <td>4919631.0</td>\n",
       "      <td>4735957.4</td>\n",
       "    </tr>\n",
       "    <tr>\n",
       "      <th>47</th>\n",
       "      <td>300000.0</td>\n",
       "      <td>4722573.2</td>\n",
       "    </tr>\n",
       "    <tr>\n",
       "      <th>24</th>\n",
       "      <td>13645.0</td>\n",
       "      <td>244267.6</td>\n",
       "    </tr>\n",
       "    <tr>\n",
       "      <th>110</th>\n",
       "      <td>14840.0</td>\n",
       "      <td>689418.6</td>\n",
       "    </tr>\n",
       "    <tr>\n",
       "      <th>10</th>\n",
       "      <td>370281.0</td>\n",
       "      <td>240845.6</td>\n",
       "    </tr>\n",
       "    <tr>\n",
       "      <th>27</th>\n",
       "      <td>2820068.0</td>\n",
       "      <td>1459154.6</td>\n",
       "    </tr>\n",
       "    <tr>\n",
       "      <th>84</th>\n",
       "      <td>2326500.0</td>\n",
       "      <td>1670613.6</td>\n",
       "    </tr>\n",
       "    <tr>\n",
       "      <th>58</th>\n",
       "      <td>287426.0</td>\n",
       "      <td>805643.0</td>\n",
       "    </tr>\n",
       "    <tr>\n",
       "      <th>107</th>\n",
       "      <td>148180.0</td>\n",
       "      <td>115517.2</td>\n",
       "    </tr>\n",
       "    <tr>\n",
       "      <th>61</th>\n",
       "      <td>5784087.0</td>\n",
       "      <td>3898671.8</td>\n",
       "    </tr>\n",
       "    <tr>\n",
       "      <th>108</th>\n",
       "      <td>792961.0</td>\n",
       "      <td>790816.4</td>\n",
       "    </tr>\n",
       "    <tr>\n",
       "      <th>78</th>\n",
       "      <td>21906.0</td>\n",
       "      <td>244267.6</td>\n",
       "    </tr>\n",
       "    <tr>\n",
       "      <th>114</th>\n",
       "      <td>4077159.0</td>\n",
       "      <td>1951212.4</td>\n",
       "    </tr>\n",
       "    <tr>\n",
       "      <th>99</th>\n",
       "      <td>795327.0</td>\n",
       "      <td>1282444.8</td>\n",
       "    </tr>\n",
       "    <tr>\n",
       "      <th>91</th>\n",
       "      <td>560000.0</td>\n",
       "      <td>1563483.8</td>\n",
       "    </tr>\n",
       "    <tr>\n",
       "      <th>72</th>\n",
       "      <td>261000.0</td>\n",
       "      <td>161608.8</td>\n",
       "    </tr>\n",
       "    <tr>\n",
       "      <th>23</th>\n",
       "      <td>5999.0</td>\n",
       "      <td>689418.6</td>\n",
       "    </tr>\n",
       "  </tbody>\n",
       "</table>\n",
       "</div>"
      ],
      "text/plain": [
       "          real  predicted\n",
       "52    228864.0   144949.4\n",
       "5      21500.0   790816.4\n",
       "39   8012460.0  3687719.6\n",
       "55    224926.0   257878.6\n",
       "33   4919631.0  4735957.4\n",
       "47    300000.0  4722573.2\n",
       "24     13645.0   244267.6\n",
       "110    14840.0   689418.6\n",
       "10    370281.0   240845.6\n",
       "27   2820068.0  1459154.6\n",
       "84   2326500.0  1670613.6\n",
       "58    287426.0   805643.0\n",
       "107   148180.0   115517.2\n",
       "61   5784087.0  3898671.8\n",
       "108   792961.0   790816.4\n",
       "78     21906.0   244267.6\n",
       "114  4077159.0  1951212.4\n",
       "99    795327.0  1282444.8\n",
       "91    560000.0  1563483.8\n",
       "72    261000.0   161608.8\n",
       "23      5999.0   689418.6"
      ]
     },
     "execution_count": 64,
     "metadata": {},
     "output_type": "execute_result"
    }
   ],
   "source": [
    "results = pd.DataFrame({'real': y_test, 'predicted': pred})\n",
    "results"
   ]
  },
  {
   "cell_type": "markdown",
   "id": "7a451a5f",
   "metadata": {},
   "source": [
    "#### Заполняем пропуски по сумме долга"
   ]
  },
  {
   "cell_type": "code",
   "execution_count": 66,
   "id": "a82ff3d9",
   "metadata": {},
   "outputs": [
    {
     "name": "stderr",
     "output_type": "stream",
     "text": [
      "/var/folders/zy/214v8d1d4tng0_jtxf69crf40000gp/T/ipykernel_4895/3677316992.py:5: SettingWithCopyWarning: \n",
      "A value is trying to be set on a copy of a slice from a DataFrame\n",
      "\n",
      "See the caveats in the documentation: https://pandas.pydata.org/pandas-docs/stable/user_guide/indexing.html#returning-a-view-versus-a-copy\n",
      "  df['debt_amount'].iloc[i] = new_value\n",
      "/var/folders/zy/214v8d1d4tng0_jtxf69crf40000gp/T/ipykernel_4895/3677316992.py:5: SettingWithCopyWarning: \n",
      "A value is trying to be set on a copy of a slice from a DataFrame\n",
      "\n",
      "See the caveats in the documentation: https://pandas.pydata.org/pandas-docs/stable/user_guide/indexing.html#returning-a-view-versus-a-copy\n",
      "  df['debt_amount'].iloc[i] = new_value\n",
      "/var/folders/zy/214v8d1d4tng0_jtxf69crf40000gp/T/ipykernel_4895/3677316992.py:5: SettingWithCopyWarning: \n",
      "A value is trying to be set on a copy of a slice from a DataFrame\n",
      "\n",
      "See the caveats in the documentation: https://pandas.pydata.org/pandas-docs/stable/user_guide/indexing.html#returning-a-view-versus-a-copy\n",
      "  df['debt_amount'].iloc[i] = new_value\n",
      "/var/folders/zy/214v8d1d4tng0_jtxf69crf40000gp/T/ipykernel_4895/3677316992.py:5: SettingWithCopyWarning: \n",
      "A value is trying to be set on a copy of a slice from a DataFrame\n",
      "\n",
      "See the caveats in the documentation: https://pandas.pydata.org/pandas-docs/stable/user_guide/indexing.html#returning-a-view-versus-a-copy\n",
      "  df['debt_amount'].iloc[i] = new_value\n",
      "/var/folders/zy/214v8d1d4tng0_jtxf69crf40000gp/T/ipykernel_4895/3677316992.py:5: SettingWithCopyWarning: \n",
      "A value is trying to be set on a copy of a slice from a DataFrame\n",
      "\n",
      "See the caveats in the documentation: https://pandas.pydata.org/pandas-docs/stable/user_guide/indexing.html#returning-a-view-versus-a-copy\n",
      "  df['debt_amount'].iloc[i] = new_value\n",
      "/var/folders/zy/214v8d1d4tng0_jtxf69crf40000gp/T/ipykernel_4895/3677316992.py:5: SettingWithCopyWarning: \n",
      "A value is trying to be set on a copy of a slice from a DataFrame\n",
      "\n",
      "See the caveats in the documentation: https://pandas.pydata.org/pandas-docs/stable/user_guide/indexing.html#returning-a-view-versus-a-copy\n",
      "  df['debt_amount'].iloc[i] = new_value\n",
      "/var/folders/zy/214v8d1d4tng0_jtxf69crf40000gp/T/ipykernel_4895/3677316992.py:5: SettingWithCopyWarning: \n",
      "A value is trying to be set on a copy of a slice from a DataFrame\n",
      "\n",
      "See the caveats in the documentation: https://pandas.pydata.org/pandas-docs/stable/user_guide/indexing.html#returning-a-view-versus-a-copy\n",
      "  df['debt_amount'].iloc[i] = new_value\n",
      "/var/folders/zy/214v8d1d4tng0_jtxf69crf40000gp/T/ipykernel_4895/3677316992.py:5: SettingWithCopyWarning: \n",
      "A value is trying to be set on a copy of a slice from a DataFrame\n",
      "\n",
      "See the caveats in the documentation: https://pandas.pydata.org/pandas-docs/stable/user_guide/indexing.html#returning-a-view-versus-a-copy\n",
      "  df['debt_amount'].iloc[i] = new_value\n",
      "/var/folders/zy/214v8d1d4tng0_jtxf69crf40000gp/T/ipykernel_4895/3677316992.py:5: SettingWithCopyWarning: \n",
      "A value is trying to be set on a copy of a slice from a DataFrame\n",
      "\n",
      "See the caveats in the documentation: https://pandas.pydata.org/pandas-docs/stable/user_guide/indexing.html#returning-a-view-versus-a-copy\n",
      "  df['debt_amount'].iloc[i] = new_value\n",
      "/var/folders/zy/214v8d1d4tng0_jtxf69crf40000gp/T/ipykernel_4895/3677316992.py:5: SettingWithCopyWarning: \n",
      "A value is trying to be set on a copy of a slice from a DataFrame\n",
      "\n",
      "See the caveats in the documentation: https://pandas.pydata.org/pandas-docs/stable/user_guide/indexing.html#returning-a-view-versus-a-copy\n",
      "  df['debt_amount'].iloc[i] = new_value\n",
      "/var/folders/zy/214v8d1d4tng0_jtxf69crf40000gp/T/ipykernel_4895/3677316992.py:5: SettingWithCopyWarning: \n",
      "A value is trying to be set on a copy of a slice from a DataFrame\n",
      "\n",
      "See the caveats in the documentation: https://pandas.pydata.org/pandas-docs/stable/user_guide/indexing.html#returning-a-view-versus-a-copy\n",
      "  df['debt_amount'].iloc[i] = new_value\n",
      "/var/folders/zy/214v8d1d4tng0_jtxf69crf40000gp/T/ipykernel_4895/3677316992.py:5: SettingWithCopyWarning: \n",
      "A value is trying to be set on a copy of a slice from a DataFrame\n",
      "\n",
      "See the caveats in the documentation: https://pandas.pydata.org/pandas-docs/stable/user_guide/indexing.html#returning-a-view-versus-a-copy\n",
      "  df['debt_amount'].iloc[i] = new_value\n",
      "/var/folders/zy/214v8d1d4tng0_jtxf69crf40000gp/T/ipykernel_4895/3677316992.py:5: SettingWithCopyWarning: \n",
      "A value is trying to be set on a copy of a slice from a DataFrame\n",
      "\n",
      "See the caveats in the documentation: https://pandas.pydata.org/pandas-docs/stable/user_guide/indexing.html#returning-a-view-versus-a-copy\n",
      "  df['debt_amount'].iloc[i] = new_value\n",
      "/var/folders/zy/214v8d1d4tng0_jtxf69crf40000gp/T/ipykernel_4895/3677316992.py:5: SettingWithCopyWarning: \n",
      "A value is trying to be set on a copy of a slice from a DataFrame\n",
      "\n",
      "See the caveats in the documentation: https://pandas.pydata.org/pandas-docs/stable/user_guide/indexing.html#returning-a-view-versus-a-copy\n",
      "  df['debt_amount'].iloc[i] = new_value\n",
      "/var/folders/zy/214v8d1d4tng0_jtxf69crf40000gp/T/ipykernel_4895/3677316992.py:5: SettingWithCopyWarning: \n",
      "A value is trying to be set on a copy of a slice from a DataFrame\n",
      "\n",
      "See the caveats in the documentation: https://pandas.pydata.org/pandas-docs/stable/user_guide/indexing.html#returning-a-view-versus-a-copy\n",
      "  df['debt_amount'].iloc[i] = new_value\n",
      "/var/folders/zy/214v8d1d4tng0_jtxf69crf40000gp/T/ipykernel_4895/3677316992.py:5: SettingWithCopyWarning: \n",
      "A value is trying to be set on a copy of a slice from a DataFrame\n",
      "\n",
      "See the caveats in the documentation: https://pandas.pydata.org/pandas-docs/stable/user_guide/indexing.html#returning-a-view-versus-a-copy\n",
      "  df['debt_amount'].iloc[i] = new_value\n",
      "/var/folders/zy/214v8d1d4tng0_jtxf69crf40000gp/T/ipykernel_4895/3677316992.py:5: SettingWithCopyWarning: \n",
      "A value is trying to be set on a copy of a slice from a DataFrame\n",
      "\n",
      "See the caveats in the documentation: https://pandas.pydata.org/pandas-docs/stable/user_guide/indexing.html#returning-a-view-versus-a-copy\n",
      "  df['debt_amount'].iloc[i] = new_value\n",
      "/var/folders/zy/214v8d1d4tng0_jtxf69crf40000gp/T/ipykernel_4895/3677316992.py:5: SettingWithCopyWarning: \n",
      "A value is trying to be set on a copy of a slice from a DataFrame\n",
      "\n",
      "See the caveats in the documentation: https://pandas.pydata.org/pandas-docs/stable/user_guide/indexing.html#returning-a-view-versus-a-copy\n",
      "  df['debt_amount'].iloc[i] = new_value\n",
      "/var/folders/zy/214v8d1d4tng0_jtxf69crf40000gp/T/ipykernel_4895/3677316992.py:5: SettingWithCopyWarning: \n",
      "A value is trying to be set on a copy of a slice from a DataFrame\n",
      "\n",
      "See the caveats in the documentation: https://pandas.pydata.org/pandas-docs/stable/user_guide/indexing.html#returning-a-view-versus-a-copy\n",
      "  df['debt_amount'].iloc[i] = new_value\n",
      "/var/folders/zy/214v8d1d4tng0_jtxf69crf40000gp/T/ipykernel_4895/3677316992.py:5: SettingWithCopyWarning: \n",
      "A value is trying to be set on a copy of a slice from a DataFrame\n",
      "\n",
      "See the caveats in the documentation: https://pandas.pydata.org/pandas-docs/stable/user_guide/indexing.html#returning-a-view-versus-a-copy\n",
      "  df['debt_amount'].iloc[i] = new_value\n",
      "/var/folders/zy/214v8d1d4tng0_jtxf69crf40000gp/T/ipykernel_4895/3677316992.py:5: SettingWithCopyWarning: \n",
      "A value is trying to be set on a copy of a slice from a DataFrame\n",
      "\n",
      "See the caveats in the documentation: https://pandas.pydata.org/pandas-docs/stable/user_guide/indexing.html#returning-a-view-versus-a-copy\n",
      "  df['debt_amount'].iloc[i] = new_value\n",
      "/var/folders/zy/214v8d1d4tng0_jtxf69crf40000gp/T/ipykernel_4895/3677316992.py:5: SettingWithCopyWarning: \n",
      "A value is trying to be set on a copy of a slice from a DataFrame\n",
      "\n",
      "See the caveats in the documentation: https://pandas.pydata.org/pandas-docs/stable/user_guide/indexing.html#returning-a-view-versus-a-copy\n",
      "  df['debt_amount'].iloc[i] = new_value\n",
      "/var/folders/zy/214v8d1d4tng0_jtxf69crf40000gp/T/ipykernel_4895/3677316992.py:5: SettingWithCopyWarning: \n",
      "A value is trying to be set on a copy of a slice from a DataFrame\n",
      "\n",
      "See the caveats in the documentation: https://pandas.pydata.org/pandas-docs/stable/user_guide/indexing.html#returning-a-view-versus-a-copy\n",
      "  df['debt_amount'].iloc[i] = new_value\n",
      "/var/folders/zy/214v8d1d4tng0_jtxf69crf40000gp/T/ipykernel_4895/3677316992.py:5: SettingWithCopyWarning: \n",
      "A value is trying to be set on a copy of a slice from a DataFrame\n",
      "\n",
      "See the caveats in the documentation: https://pandas.pydata.org/pandas-docs/stable/user_guide/indexing.html#returning-a-view-versus-a-copy\n",
      "  df['debt_amount'].iloc[i] = new_value\n",
      "/var/folders/zy/214v8d1d4tng0_jtxf69crf40000gp/T/ipykernel_4895/3677316992.py:5: SettingWithCopyWarning: \n",
      "A value is trying to be set on a copy of a slice from a DataFrame\n",
      "\n",
      "See the caveats in the documentation: https://pandas.pydata.org/pandas-docs/stable/user_guide/indexing.html#returning-a-view-versus-a-copy\n",
      "  df['debt_amount'].iloc[i] = new_value\n",
      "/var/folders/zy/214v8d1d4tng0_jtxf69crf40000gp/T/ipykernel_4895/3677316992.py:5: SettingWithCopyWarning: \n",
      "A value is trying to be set on a copy of a slice from a DataFrame\n",
      "\n",
      "See the caveats in the documentation: https://pandas.pydata.org/pandas-docs/stable/user_guide/indexing.html#returning-a-view-versus-a-copy\n",
      "  df['debt_amount'].iloc[i] = new_value\n"
     ]
    }
   ],
   "source": [
    "for i, (price, debt, claimed_penalty) in enumerate(df[['contract_price', 'debt_amount', 'claimed_penalty']].values):\n",
    "    if np.isnan(debt):\n",
    "        features = [[claimed_penalty, price]]\n",
    "        new_value = model.predict(features)[0]\n",
    "        df['debt_amount'].iloc[i] = new_value"
   ]
  },
  {
   "cell_type": "code",
   "execution_count": 68,
   "id": "b5593972",
   "metadata": {},
   "outputs": [],
   "source": [
    "df.to_csv('training_data_filled_11.09.csv', index=False)"
   ]
  },
  {
   "cell_type": "code",
   "execution_count": null,
   "id": "0685fc5d",
   "metadata": {},
   "outputs": [],
   "source": []
  },
  {
   "cell_type": "code",
   "execution_count": null,
   "id": "3c7adad3",
   "metadata": {},
   "outputs": [],
   "source": []
  }
 ],
 "metadata": {
  "kernelspec": {
   "display_name": "Python 3 (ipykernel)",
   "language": "python",
   "name": "python3"
  },
  "language_info": {
   "codemirror_mode": {
    "name": "ipython",
    "version": 3
   },
   "file_extension": ".py",
   "mimetype": "text/x-python",
   "name": "python",
   "nbconvert_exporter": "python",
   "pygments_lexer": "ipython3",
   "version": "3.9.15"
  }
 },
 "nbformat": 4,
 "nbformat_minor": 5
}
