{
 "cells": [
  {
   "cell_type": "code",
   "execution_count": 1,
   "id": "6e1932b3",
   "metadata": {},
   "outputs": [],
   "source": [
    "import json\n",
    "import numpy as np\n",
    "import pandas as pd\n",
    "import re\n",
    "from datetime import datetime"
   ]
  },
  {
   "cell_type": "code",
   "execution_count": 2,
   "id": "c5459d32",
   "metadata": {},
   "outputs": [],
   "source": [
    "docs = []\n",
    "with open('/Users/ktulhu/Downloads/all.jsonl 7') as f:\n",
    "    for line in f:\n",
    "        docs.append(json.loads(line))"
   ]
  },
  {
   "cell_type": "code",
   "execution_count": 3,
   "id": "a8886323",
   "metadata": {},
   "outputs": [
    {
     "data": {
      "text/plain": [
       "{'Судья - женщина': [],\n",
       " 'Подряд': [],\n",
       " 'Купля-продажа': [],\n",
       " 'Банковская гарантия': [],\n",
       " '2022 год': [],\n",
       " '3 апелляция': [],\n",
       " '18 апелляция': [],\n",
       " 'Цена контракта': [],\n",
       " 'Судья - мужчина': [],\n",
       " 'Сумма долга': [],\n",
       " '7 апелляция': [],\n",
       " 'Услуги': [],\n",
       " '9 апелляция': [],\n",
       " '2021 год': [],\n",
       " '13 апелляция': [],\n",
       " 'Заявленный размер неустойки (цифра)': [],\n",
       " '15 апелляция': [],\n",
       " 'Договорная неустойка (%)': [],\n",
       " 'Взысканный размер неустойки в 1 инстанции (цифра)': [],\n",
       " 'Аренда': [],\n",
       " '2023 год': [],\n",
       " 'Авансовый платеж': [],\n",
       " 'Период просрочки/кол-во дней просрочки': [],\n",
       " '17 апелляция': [],\n",
       " '11 апелляция': [],\n",
       " 'Поставка': [],\n",
       " '5 апелляция': []}"
      ]
     },
     "execution_count": 3,
     "metadata": {},
     "output_type": "execute_result"
    }
   ],
   "source": [
    "entities = set([line[2] for doc in docs for line in doc['label']])\n",
    "entities_dict = {ent: [] for ent in entities}\n",
    "entities_dict"
   ]
  },
  {
   "cell_type": "code",
   "execution_count": 4,
   "id": "44663114",
   "metadata": {},
   "outputs": [],
   "source": [
    "for doc in docs: # проходимся по всем документам в корпусе\n",
    "    \n",
    "    # проходимся по всем существующим сущностям\n",
    "    for key in entities_dict:\n",
    "\n",
    "        # для данного документа (doc) проходимся по всем сущностям, который у него есть (doc['label']) (неоптимально!)\n",
    "        for entity in doc['label']:\n",
    "            \n",
    "            # если сущность документа (entity[2]) совпала с искомой сущностью в словаре (key), то\n",
    "            if entity[2] == key:\n",
    "                \n",
    "                # достаём индексы начала и конца сущности в тексте документа\n",
    "                start, end = entity[:2]\n",
    "                \n",
    "                # достаём из текста документа сущность (doc['text'][start:end]) и кладём её в словарь\n",
    "                entities_dict[key].append(doc['text'][start:end])\n",
    "                break\n",
    "                \n",
    "        else: # если сущность не нашлась, кладём пустую строку\n",
    "            entities_dict[key].append('')"
   ]
  },
  {
   "cell_type": "code",
   "execution_count": 5,
   "id": "b7c58ba2",
   "metadata": {},
   "outputs": [],
   "source": [
    "# создаём таблицу из словаря\n",
    "df = pd.DataFrame(entities_dict)"
   ]
  },
  {
   "cell_type": "code",
   "execution_count": 6,
   "id": "ec8cdf71",
   "metadata": {},
   "outputs": [],
   "source": [
    "df.iloc[31]['Договорная неустойка (%)'] = ''\n",
    "df.iloc[40]['Договорная неустойка (%)'] = ''\n",
    "df.iloc[61]['Договорная неустойка (%)'] = ''\n",
    "df.iloc[62]['Договорная неустойка (%)'] = ''\n",
    "df.iloc[70]['Договорная неустойка (%)'] = ''"
   ]
  },
  {
   "cell_type": "code",
   "execution_count": 7,
   "id": "7b17942b",
   "metadata": {},
   "outputs": [],
   "source": [
    "df.drop([32], inplace=True)"
   ]
  },
  {
   "cell_type": "code",
   "execution_count": 8,
   "id": "af4370d9",
   "metadata": {},
   "outputs": [],
   "source": [
    "def preprocess_money_sum(text):\n",
    "    if text:\n",
    "        text = re.sub(' ?ру.*', '', text)\n",
    "        text = re.sub(',.+', '', text)\n",
    "        text = text.replace(' ', '').replace('.', '').replace('\\n', '')\n",
    "        text = re.sub('[()А-ЯЁа-яё]', '', text)\n",
    "        if not text:\n",
    "            return\n",
    "        return int(text)"
   ]
  },
  {
   "cell_type": "code",
   "execution_count": 10,
   "id": "40d0bc1f",
   "metadata": {},
   "outputs": [],
   "source": [
    "df['claimed_penalty'] = df['Заявленный размер неустойки (цифра)'].apply(preprocess_money_sum)\n",
    "df['resulting_penalty'] = df['Взысканный размер неустойки в 1 инстанции (цифра)'].apply(preprocess_money_sum)"
   ]
  },
  {
   "cell_type": "code",
   "execution_count": 11,
   "id": "3c1f9b0f",
   "metadata": {},
   "outputs": [],
   "source": [
    "df['penalty_reduction_ratio'] = [\n",
    "    1 - resulting / claimed\n",
    "    for (claimed, resulting) in df[['claimed_penalty', 'resulting_penalty']].values\n",
    "]"
   ]
  },
  {
   "cell_type": "code",
   "execution_count": 12,
   "id": "a363c845",
   "metadata": {},
   "outputs": [],
   "source": [
    "percent_replace_dict = {\n",
    "    'одной десятой процента': 0.001,\n",
    "    '10 (десять) процентов от суммы каждой операции, совершенной не с использованием Отдельного счёта». ': 0.1,\n",
    "}"
   ]
  },
  {
   "cell_type": "code",
   "execution_count": 13,
   "id": "b2afc0bb",
   "metadata": {},
   "outputs": [],
   "source": [
    "def transform_percentage_data(cell):\n",
    "    if cell:\n",
    "        for special_case in percent_replace_dict:\n",
    "            if special_case in cell:\n",
    "                return percent_replace_dict[special_case]\n",
    "        \n",
    "        cell = re.sub('[а-яё% ]', '', cell).replace(',', '.').strip(' .')\n",
    "        if cell:\n",
    "            return float(cell) / 100\n",
    "\n",
    "df['contract_penalty_percentage'] = df['Договорная неустойка (%)'].apply(transform_percentage_data)"
   ]
  },
  {
   "cell_type": "code",
   "execution_count": 14,
   "id": "0cac09b9",
   "metadata": {},
   "outputs": [],
   "source": [
    "df['debt_amount'] = df['Сумма долга'].apply(preprocess_money_sum)"
   ]
  },
  {
   "cell_type": "code",
   "execution_count": 15,
   "id": "71709fba",
   "metadata": {},
   "outputs": [],
   "source": [
    "df['prepayment'] = df['Авансовый платеж'].apply(preprocess_money_sum)"
   ]
  },
  {
   "cell_type": "code",
   "execution_count": 16,
   "id": "e67518f8",
   "metadata": {},
   "outputs": [],
   "source": [
    "df['contract_price'] = df['Цена контракта'].apply(preprocess_money_sum)"
   ]
  },
  {
   "cell_type": "code",
   "execution_count": 17,
   "id": "b47ad52e",
   "metadata": {},
   "outputs": [],
   "source": [
    "def process_period(cell):\n",
    "    if not cell:\n",
    "        return\n",
    "    \n",
    "    try:\n",
    "        cell = re.sub('(\\\\d) ?\\. ?(\\\\d)', '\\\\1.\\\\2', cell)\n",
    "        found_dates = re.findall('\\\\d\\\\d\\.\\\\d\\\\d\\.\\\\d\\\\d\\\\d\\\\d', cell)\n",
    "        start, end = found_dates[0], found_dates[1]\n",
    "        start_date = datetime.strptime(start, '%d.%m.%Y')\n",
    "        end_date = datetime.strptime(end, '%d.%m.%Y')\n",
    "        return (end_date - start_date).days\n",
    "        \n",
    "    except IndexError:\n",
    "        \n",
    "        try:\n",
    "            num_days = re.match('\\\\d+', cell.strip()).group(0)\n",
    "            return int(num_days)\n",
    "        \n",
    "        except Exception as e:\n",
    "            print(e)"
   ]
  },
  {
   "cell_type": "code",
   "execution_count": 18,
   "id": "cc844347",
   "metadata": {},
   "outputs": [
    {
     "name": "stdout",
     "output_type": "stream",
     "text": [
      "'NoneType' object has no attribute 'group'\n"
     ]
    }
   ],
   "source": [
    "df['delay'] = df['Период просрочки/кол-во дней просрочки'].apply(process_period)"
   ]
  },
  {
   "cell_type": "code",
   "execution_count": 19,
   "id": "83ae68f0",
   "metadata": {},
   "outputs": [],
   "source": [
    "appeal_cols = [f'{i} апелляция' for i in range(1, 19) if f'{i} апелляция' in df.columns]\n",
    "# df[appeal_cols]"
   ]
  },
  {
   "cell_type": "code",
   "execution_count": 20,
   "id": "f7aca1d5",
   "metadata": {},
   "outputs": [],
   "source": [
    "type_of_contract_cols = ['Аренда', 'Поставка', 'Купля-продажа', 'Подряд', 'Банковская гарантия', 'Услуги',]\n",
    "# df[type_of_contract_cols]"
   ]
  },
  {
   "cell_type": "code",
   "execution_count": 21,
   "id": "cad4aa4d",
   "metadata": {},
   "outputs": [],
   "source": [
    "judge_gender_cols = ['Судья - мужчина', 'Судья - женщина']\n",
    "# df[judge_gender_cols]"
   ]
  },
  {
   "cell_type": "code",
   "execution_count": 22,
   "id": "0eef63d1",
   "metadata": {},
   "outputs": [],
   "source": [
    "year_cols = ['2022 год', '2021 год',  '2023 год']\n",
    "# df[year_cols]"
   ]
  },
  {
   "cell_type": "code",
   "execution_count": 23,
   "id": "2c48b905",
   "metadata": {},
   "outputs": [],
   "source": [
    "def transform_related_features(row, columns):\n",
    "    return [col for col in columns if not row[col] == '']"
   ]
  },
  {
   "cell_type": "code",
   "execution_count": 24,
   "id": "ee3f0dbb",
   "metadata": {},
   "outputs": [],
   "source": [
    "df['appeal_courts'] = df.apply(transform_related_features, args=(appeal_cols,), axis=1)\n",
    "df['appeal_courts'] = df.appeal_courts.apply(lambda cell: cell[0] if cell else None)"
   ]
  },
  {
   "cell_type": "code",
   "execution_count": 25,
   "id": "1b71d996",
   "metadata": {},
   "outputs": [],
   "source": [
    "df['type_of_contract'] = df.apply(transform_related_features, args=(type_of_contract_cols,), axis=1)\n",
    "df['type_of_contract'] = df.type_of_contract.apply(lambda cell: cell[0] if cell else None)"
   ]
  },
  {
   "cell_type": "code",
   "execution_count": 26,
   "id": "14707810",
   "metadata": {},
   "outputs": [],
   "source": [
    "df['judge_gender'] = df.apply(transform_related_features, args=(judge_gender_cols,), axis=1)\n",
    "df['judge_gender'] = df.judge_gender.apply(lambda cell: cell[0] if cell else None)"
   ]
  },
  {
   "cell_type": "code",
   "execution_count": 27,
   "id": "56ee28b7",
   "metadata": {},
   "outputs": [],
   "source": [
    "df['year'] = df.apply(transform_related_features, args=(year_cols,), axis=1)\n",
    "df['year'] = df.year.apply(lambda cell: cell[0] if cell else None)"
   ]
  },
  {
   "cell_type": "code",
   "execution_count": 28,
   "id": "a104472e",
   "metadata": {},
   "outputs": [],
   "source": [
    "df.to_csv('annotated_docs_2.09.csv', index=False)"
   ]
  },
  {
   "cell_type": "markdown",
   "id": "33646d56",
   "metadata": {},
   "source": [
    "### Какие признаки берём и почему\n",
    "\n",
    "1. claimed_penalty -- Заявленный размер неустойки (цифра)\n",
    "2. contract_penalty_percentage -- Договорная неустойка (%): **заполняем наны 0.001**\n",
    "4. contract_price -- Цена контракта\n",
    "5. delay -- период просрочки, обычно есть\n",
    "6. debt_amount -- Сумма долга\n",
    "7. responsibility_limit -- Лимит ответсвенности --- его почти нет, но мы можем заполнить стандартным 0.1\n",
    "\n",
    "Не берём:\n",
    "- Досудебное погашение основного долга (цифра) -- его мало, не знаем как заполнять\n",
    "- Авансовый платеж (Возможно, убираем, потому что его очень мало) -- слишком мало"
   ]
  },
  {
   "cell_type": "code",
   "execution_count": 29,
   "id": "3265d825",
   "metadata": {},
   "outputs": [
    {
     "data": {
      "text/plain": [
       "Index(['Судья - женщина', 'Подряд', 'Купля-продажа', 'Банковская гарантия',\n",
       "       '2022 год', '3 апелляция', '18 апелляция', 'Цена контракта',\n",
       "       'Судья - мужчина', 'Сумма долга', '7 апелляция', 'Услуги',\n",
       "       '9 апелляция', '2021 год', '13 апелляция',\n",
       "       'Заявленный размер неустойки (цифра)', '15 апелляция',\n",
       "       'Договорная неустойка (%)',\n",
       "       'Взысканный размер неустойки в 1 инстанции (цифра)', 'Аренда',\n",
       "       '2023 год', 'Авансовый платеж',\n",
       "       'Период просрочки/кол-во дней просрочки', '17 апелляция',\n",
       "       '11 апелляция', 'Поставка', '5 апелляция', 'claimed_penalty',\n",
       "       'resulting_penalty', 'penalty_reduction_ratio',\n",
       "       'contract_penalty_percentage', 'debt_amount', 'prepayment',\n",
       "       'contract_price', 'delay', 'appeal_courts', 'type_of_contract',\n",
       "       'judge_gender', 'year'],\n",
       "      dtype='object')"
      ]
     },
     "execution_count": 29,
     "metadata": {},
     "output_type": "execute_result"
    }
   ],
   "source": [
    "df.columns"
   ]
  },
  {
   "cell_type": "code",
   "execution_count": 30,
   "id": "999d6fa3",
   "metadata": {},
   "outputs": [],
   "source": [
    "training_df = df[[\n",
    "    'claimed_penalty', 'contract_penalty_percentage', 'prepayment',\n",
    "    'contract_price', 'delay', 'debt_amount', 'penalty_reduction_ratio',\n",
    "    'appeal_courts', 'type_of_contract', 'judge_gender', 'year',\n",
    "]]"
   ]
  },
  {
   "cell_type": "code",
   "execution_count": 32,
   "id": "5afe85ab",
   "metadata": {},
   "outputs": [],
   "source": [
    "training_df.to_csv('training_df_unfilled_11.09.csv', index=False)"
   ]
  },
  {
   "cell_type": "code",
   "execution_count": 33,
   "id": "6b682e1a",
   "metadata": {},
   "outputs": [
    {
     "data": {
      "text/plain": [
       "22"
      ]
     },
     "execution_count": 33,
     "metadata": {},
     "output_type": "execute_result"
    }
   ],
   "source": [
    "training_df[training_df.contract_price.isnull()].shape[0]"
   ]
  },
  {
   "cell_type": "code",
   "execution_count": 34,
   "id": "6e6bea03",
   "metadata": {},
   "outputs": [
    {
     "data": {
      "text/plain": [
       "125"
      ]
     },
     "execution_count": 34,
     "metadata": {},
     "output_type": "execute_result"
    }
   ],
   "source": [
    "len(training_df)"
   ]
  },
  {
   "cell_type": "code",
   "execution_count": 220,
   "id": "246f3cef",
   "metadata": {},
   "outputs": [
    {
     "data": {
      "text/plain": [
       "<Axes: >"
      ]
     },
     "execution_count": 220,
     "metadata": {},
     "output_type": "execute_result"
    },
    {
     "data": {
      "image/png": "[encoded data removed]",
      "text/plain": [
       "<Figure size 640x480 with 1 Axes>"
      ]
     },
     "metadata": {},
     "output_type": "display_data"
    }
   ],
   "source": [
    "training_df[\n",
    "    training_df.contract_price.notnull()\n",
    "    & (training_df.contract_price < 10 ** 7)\n",
    "].contract_price.hist(bins=50)"
   ]
  },
  {
   "cell_type": "code",
   "execution_count": 35,
   "id": "c05f019b",
   "metadata": {},
   "outputs": [],
   "source": [
    "import numpy as np"
   ]
  },
  {
   "cell_type": "code",
   "execution_count": 36,
   "id": "3b51b45a",
   "metadata": {},
   "outputs": [
    {
     "name": "stderr",
     "output_type": "stream",
     "text": [
      "/var/folders/zy/214v8d1d4tng0_jtxf69crf40000gp/T/ipykernel_3717/3724536266.py:1: SettingWithCopyWarning: \n",
      "A value is trying to be set on a copy of a slice from a DataFrame\n",
      "\n",
      "See the caveats in the documentation: https://pandas.pydata.org/pandas-docs/stable/user_guide/indexing.html#returning-a-view-versus-a-copy\n",
      "  training_df.contract_penalty_percentage.fillna(0.001, inplace=True)\n"
     ]
    }
   ],
   "source": [
    "training_df.contract_penalty_percentage.fillna(0.001, inplace=True)"
   ]
  },
  {
   "cell_type": "code",
   "execution_count": 37,
   "id": "2ac3197f",
   "metadata": {},
   "outputs": [
    {
     "name": "stderr",
     "output_type": "stream",
     "text": [
      "/var/folders/zy/214v8d1d4tng0_jtxf69crf40000gp/T/ipykernel_3717/1396771398.py:4: SettingWithCopyWarning: \n",
      "A value is trying to be set on a copy of a slice from a DataFrame\n",
      "\n",
      "See the caveats in the documentation: https://pandas.pydata.org/pandas-docs/stable/user_guide/indexing.html#returning-a-view-versus-a-copy\n",
      "  training_df['delay'].iloc[i] = new_value\n"
     ]
    }
   ],
   "source": [
    "for i, val in enumerate(training_df.delay):\n",
    "    if np.isnan(val):\n",
    "        new_value = round(np.random.pareto(10) * 1000) + 7\n",
    "        training_df['delay'].iloc[i] = new_value"
   ]
  },
  {
   "cell_type": "code",
   "execution_count": 38,
   "id": "d5e6eb57",
   "metadata": {},
   "outputs": [
    {
     "name": "stderr",
     "output_type": "stream",
     "text": [
      "/var/folders/zy/214v8d1d4tng0_jtxf69crf40000gp/T/ipykernel_3717/398954149.py:1: SettingWithCopyWarning: \n",
      "A value is trying to be set on a copy of a slice from a DataFrame.\n",
      "Try using .loc[row_indexer,col_indexer] = value instead\n",
      "\n",
      "See the caveats in the documentation: https://pandas.pydata.org/pandas-docs/stable/user_guide/indexing.html#returning-a-view-versus-a-copy\n",
      "  training_df['undefined_contract_price'] = training_df.contract_price.isnull()\n"
     ]
    }
   ],
   "source": [
    "training_df['undefined_contract_price'] = training_df.contract_price.isnull()"
   ]
  },
  {
   "cell_type": "code",
   "execution_count": 39,
   "id": "d8ed0d21",
   "metadata": {},
   "outputs": [
    {
     "name": "stderr",
     "output_type": "stream",
     "text": [
      "/var/folders/zy/214v8d1d4tng0_jtxf69crf40000gp/T/ipykernel_3717/2785870993.py:1: SettingWithCopyWarning: \n",
      "A value is trying to be set on a copy of a slice from a DataFrame.\n",
      "Try using .loc[row_indexer,col_indexer] = value instead\n",
      "\n",
      "See the caveats in the documentation: https://pandas.pydata.org/pandas-docs/stable/user_guide/indexing.html#returning-a-view-versus-a-copy\n",
      "  training_df['contract_price'] = [\n"
     ]
    }
   ],
   "source": [
    "training_df['contract_price'] = [\n",
    "    p if not np.isnan(p)\n",
    "    else max(training_df.contract_price.median(), penalty, prepayment)\n",
    "    for (p, penalty, prepayment) in training_df[\n",
    "        ['contract_price', 'claimed_penalty', 'prepayment']\n",
    "    ].values\n",
    "]"
   ]
  },
  {
   "cell_type": "code",
   "execution_count": 40,
   "id": "876da33b",
   "metadata": {},
   "outputs": [
    {
     "name": "stderr",
     "output_type": "stream",
     "text": [
      "/var/folders/zy/214v8d1d4tng0_jtxf69crf40000gp/T/ipykernel_3717/1535034192.py:1: SettingWithCopyWarning: \n",
      "A value is trying to be set on a copy of a slice from a DataFrame.\n",
      "Try using .loc[row_indexer,col_indexer] = value instead\n",
      "\n",
      "See the caveats in the documentation: https://pandas.pydata.org/pandas-docs/stable/user_guide/indexing.html#returning-a-view-versus-a-copy\n",
      "  training_df['debt_amount'] = [\n"
     ]
    }
   ],
   "source": [
    "training_df['debt_amount'] = [\n",
    "    p if not np.isnan(p)\n",
    "    else min(training_df.debt_amount.median(), contract_price)\n",
    "    for (p, contract_price) in training_df[\n",
    "        ['debt_amount', 'contract_price']\n",
    "    ].values\n",
    "]"
   ]
  },
  {
   "cell_type": "code",
   "execution_count": 41,
   "id": "b5593972",
   "metadata": {},
   "outputs": [],
   "source": [
    "training_df.to_csv('training_data_filled_11.09.csv', index=False)"
   ]
  },
  {
   "cell_type": "code",
   "execution_count": 197,
   "id": "ade45724",
   "metadata": {},
   "outputs": [
    {
     "data": {
      "text/plain": [
       "(125, 12)"
      ]
     },
     "execution_count": 197,
     "metadata": {},
     "output_type": "execute_result"
    }
   ],
   "source": [
    "training_df.shape"
   ]
  }
 ],
 "metadata": {
  "kernelspec": {
   "display_name": "Python 3 (ipykernel)",
   "language": "python",
   "name": "python3"
  },
  "language_info": {
   "codemirror_mode": {
    "name": "ipython",
    "version": 3
   },
   "file_extension": ".py",
   "mimetype": "text/x-python",
   "name": "python",
   "nbconvert_exporter": "python",
   "pygments_lexer": "ipython3",
   "version": "3.9.15"
  }
 },
 "nbformat": 4,
 "nbformat_minor": 5
}
