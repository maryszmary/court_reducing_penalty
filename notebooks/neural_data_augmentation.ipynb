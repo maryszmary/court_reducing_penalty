{
 "cells": [
  {
   "cell_type": "code",
   "execution_count": 1,
   "id": "4a406e0d",
   "metadata": {},
   "outputs": [],
   "source": [
    "import pandas as pd\n",
    "import numpy as np\n",
    "\n",
    "import torch\n",
    "import torch.nn as nn\n",
    "import torch.nn.functional as F\n",
    "import torch.optim as optim"
   ]
  },
  {
   "cell_type": "code",
   "execution_count": 2,
   "id": "a44abc67",
   "metadata": {},
   "outputs": [],
   "source": [
    "df = pd.read_csv('training_data_filled_11.09.csv')\n",
    "df.drop(columns=['prepayment'], inplace=True)"
   ]
  },
  {
   "cell_type": "markdown",
   "id": "ec98571c",
   "metadata": {},
   "source": [
    "### Синтезируем признаки"
   ]
  },
  {
   "cell_type": "code",
   "execution_count": 3,
   "id": "25c85c79",
   "metadata": {},
   "outputs": [],
   "source": [
    "df['penalty_per_day'] = [\n",
    "    claimed_penalty / delay\n",
    "    for (claimed_penalty, delay)\n",
    "    in df[['claimed_penalty', 'delay']].values\n",
    "]\n",
    "df['price_per_penalty'] = [\n",
    "    contract_price / claimed_penalty\n",
    "    for (contract_price, claimed_penalty)\n",
    "    in df[['contract_price', 'claimed_penalty']].values\n",
    "]\n",
    "df['price_per_debt'] = [\n",
    "    contract_price / debt_amount\n",
    "    for (contract_price, debt_amount)\n",
    "    in df[['contract_price', 'debt_amount']].values\n",
    "]"
   ]
  },
  {
   "cell_type": "markdown",
   "id": "d4544e11",
   "metadata": {},
   "source": [
    "### Добавляем категориальные признаки"
   ]
  },
  {
   "cell_type": "code",
   "execution_count": 4,
   "id": "82388fb3",
   "metadata": {},
   "outputs": [],
   "source": [
    "def transform_into_onehot(column_name, df):\n",
    "    encoding_dict = {\n",
    "        c: i for (i, c) in enumerate(df[column_name].unique())\n",
    "    }\n",
    "    encoded = np.zeros((len(df), len(encoding_dict)))\n",
    "    for i, val in enumerate(df[column_name]):\n",
    "        one_place = encoding_dict[val]\n",
    "        encoded[i][one_place] = 1\n",
    "    return encoded\n",
    "\n",
    "encoded_type_of_contract = transform_into_onehot('type_of_contract', df)\n",
    "encoded_appeal_courts = transform_into_onehot('appeal_courts', df)\n",
    "encoded_judge_gender = transform_into_onehot('judge_gender', df)\n",
    "encoded_year = transform_into_onehot('year', df)"
   ]
  },
  {
   "cell_type": "code",
   "execution_count": 5,
   "id": "c40bc73a",
   "metadata": {},
   "outputs": [],
   "source": [
    "features = df[[\n",
    "    'claimed_penalty', 'contract_penalty_percentage', 'contract_price', 'delay',\n",
    "    'debt_amount', 'penalty_per_day', 'price_per_penalty', 'price_per_debt'\n",
    "]].values\n",
    "\n",
    "features = np.hstack([features, encoded_type_of_contract, encoded_appeal_courts, encoded_judge_gender, encoded_year])"
   ]
  },
  {
   "cell_type": "markdown",
   "id": "80843780",
   "metadata": {},
   "source": [
    "### Autorncoder"
   ]
  },
  {
   "cell_type": "code",
   "execution_count": 6,
   "id": "d5298102",
   "metadata": {},
   "outputs": [
    {
     "data": {
      "text/plain": [
       "(125, 30)"
      ]
     },
     "execution_count": 6,
     "metadata": {},
     "output_type": "execute_result"
    }
   ],
   "source": [
    "features.shape"
   ]
  },
  {
   "cell_type": "code",
   "execution_count": 19,
   "id": "c140c6b3",
   "metadata": {},
   "outputs": [],
   "source": [
    "class Encoder(nn.Module):\n",
    "\n",
    "    def __init__(self):\n",
    "        super(Encoder, self).__init__()\n",
    "        self.fc1 = nn.Linear(30, 50)\n",
    "        self.fc2 = nn.Linear(50, 20)\n",
    "        self.fc3 = nn.Linear(20, 2)\n",
    "\n",
    "    def forward(self, x):\n",
    "        x = F.sigmoid(self.fc1(x))\n",
    "        x = F.sigmoid(self.fc2(x))\n",
    "        x = self.fc3(x)\n",
    "        return x\n",
    "\n",
    "    \n",
    "class Decoder(nn.Module):\n",
    "\n",
    "    def __init__(self):\n",
    "        super(Decoder, self).__init__()\n",
    "        self.fc1 = nn.Linear(2, 20)\n",
    "        self.fc2 = nn.Linear(20, 50)\n",
    "        self.fc3 = nn.Linear(50, 30)\n",
    "\n",
    "    def forward(self, x):\n",
    "        x = F.sigmoid(self.fc1(x))\n",
    "        x = F.sigmoid(self.fc2(x))\n",
    "        x = self.fc3(x)\n",
    "        return x"
   ]
  },
  {
   "cell_type": "code",
   "execution_count": 20,
   "id": "7cde0b84",
   "metadata": {},
   "outputs": [],
   "source": [
    "class Autoencoder(nn.Module):\n",
    "    \n",
    "    def __init__(self):\n",
    "        super(Autoencoder, self).__init__()\n",
    "        self.encoder = Encoder()\n",
    "        self.decoder = Decoder()\n",
    "\n",
    "    def forward(self, x):\n",
    "        return self.decoder(self.encoder(x))"
   ]
  },
  {
   "cell_type": "code",
   "execution_count": 21,
   "id": "ea64a835",
   "metadata": {},
   "outputs": [],
   "source": [
    "data = torch.tensor(features).float()"
   ]
  },
  {
   "cell_type": "code",
   "execution_count": 22,
   "id": "1c3815ec",
   "metadata": {},
   "outputs": [],
   "source": [
    "for i in range(len(data[0])):\n",
    "    data[:, i] = data[:, i] / sum(data[:, i])"
   ]
  },
  {
   "cell_type": "code",
   "execution_count": 23,
   "id": "6c135b91",
   "metadata": {},
   "outputs": [
    {
     "data": {
      "text/plain": [
       "Autoencoder(\n",
       "  (encoder): Encoder(\n",
       "    (fc1): Linear(in_features=30, out_features=50, bias=True)\n",
       "    (fc2): Linear(in_features=50, out_features=20, bias=True)\n",
       "    (fc3): Linear(in_features=20, out_features=2, bias=True)\n",
       "  )\n",
       "  (decoder): Decoder(\n",
       "    (fc1): Linear(in_features=2, out_features=20, bias=True)\n",
       "    (fc2): Linear(in_features=20, out_features=50, bias=True)\n",
       "    (fc3): Linear(in_features=50, out_features=30, bias=True)\n",
       "  )\n",
       ")"
      ]
     },
     "execution_count": 23,
     "metadata": {},
     "output_type": "execute_result"
    }
   ],
   "source": [
    "net = Autoencoder()\n",
    "net"
   ]
  },
  {
   "cell_type": "code",
   "execution_count": 24,
   "id": "8359cf03",
   "metadata": {},
   "outputs": [],
   "source": [
    "criterion = nn.MSELoss()\n",
    "optimizer = optim.Adam(net.parameters(), lr=0.01)"
   ]
  },
  {
   "cell_type": "code",
   "execution_count": 25,
   "id": "1923d417",
   "metadata": {},
   "outputs": [
    {
     "name": "stdout",
     "output_type": "stream",
     "text": [
      "0.09282078593969345\n",
      "0.022854529321193695\n",
      "0.01806720159947872\n",
      "0.02621239610016346\n",
      "0.02827535569667816\n",
      "0.022696197032928467\n",
      "0.01579934172332287\n",
      "0.011487272568047047\n",
      "0.009820148348808289\n",
      "0.009169169701635838\n",
      "0.008527500554919243\n",
      "0.007871730253100395\n",
      "0.007414872292429209\n",
      "0.0071434215642511845\n",
      "0.0068505206145346165\n",
      "0.006351647898554802\n",
      "0.0056280032731592655\n",
      "0.004813228268176317\n",
      "0.004076193552464247\n",
      "0.0035249528009444475\n"
     ]
    },
    {
     "name": "stderr",
     "output_type": "stream",
     "text": [
      "/Users/ktulhu/.pyenv/versions/3.9.15/envs/ve/lib/python3.9/site-packages/torch/nn/functional.py:1967: UserWarning: nn.functional.sigmoid is deprecated. Use torch.sigmoid instead.\n",
      "  warnings.warn(\"nn.functional.sigmoid is deprecated. Use torch.sigmoid instead.\")\n"
     ]
    }
   ],
   "source": [
    "for i in range(20): # кол-во эпох\n",
    "    optimizer.zero_grad()\n",
    "    output = net(data)\n",
    "    loss = criterion(output, data)\n",
    "    loss.backward()\n",
    "    optimizer.step()\n",
    "    if i % 1 == 0:\n",
    "        print(loss.item())"
   ]
  },
  {
   "cell_type": "markdown",
   "id": "e825b416",
   "metadata": {},
   "source": [
    "### Получаем значения скрытого слоя"
   ]
  },
  {
   "cell_type": "code",
   "execution_count": 26,
   "id": "450ddb96",
   "metadata": {},
   "outputs": [],
   "source": [
    "embeddings = net.encoder(data)"
   ]
  },
  {
   "cell_type": "markdown",
   "id": "fd8b446e",
   "metadata": {},
   "source": [
    "### Визуализация"
   ]
  },
  {
   "cell_type": "code",
   "execution_count": 27,
   "id": "612866ed",
   "metadata": {},
   "outputs": [],
   "source": [
    "import matplotlib.pyplot as plt"
   ]
  },
  {
   "cell_type": "code",
   "execution_count": 28,
   "id": "0ec73eb6",
   "metadata": {},
   "outputs": [],
   "source": [
    "embeddings = embeddings.detach().numpy()"
   ]
  },
  {
   "cell_type": "code",
   "execution_count": 29,
   "id": "e051bd30",
   "metadata": {},
   "outputs": [
    {
     "data": {
      "image/png": "[encoded data removed]",
      "text/plain": [
       "<Figure size 640x480 with 1 Axes>"
      ]
     },
     "metadata": {},
     "output_type": "display_data"
    }
   ],
   "source": [
    "plt.scatter(embeddings[:, 0], embeddings[:, 1], marker='.', s=20)\n",
    "plt.show()"
   ]
  }
 ],
 "metadata": {
  "kernelspec": {
   "display_name": "Python 3 (ipykernel)",
   "language": "python",
   "name": "python3"
  },
  "language_info": {
   "codemirror_mode": {
    "name": "ipython",
    "version": 3
   },
   "file_extension": ".py",
   "mimetype": "text/x-python",
   "name": "python",
   "nbconvert_exporter": "python",
   "pygments_lexer": "ipython3",
   "version": "3.9.15"
  }
 },
 "nbformat": 4,
 "nbformat_minor": 5
}
